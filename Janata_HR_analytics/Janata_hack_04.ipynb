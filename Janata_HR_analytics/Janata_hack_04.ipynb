{
  "nbformat": 4,
  "nbformat_minor": 0,
  "metadata": {
    "colab": {
      "name": "Janata_hack_04.ipynb",
      "provenance": []
    },
    "kernelspec": {
      "name": "python3",
      "display_name": "Python 3"
    },
    "accelerator": "GPU"
  },
  "cells": [
    {
      "cell_type": "markdown",
      "metadata": {
        "id": "4ijAFhNAt1fT",
        "colab_type": "text"
      },
      "source": [
        "## Loading data and Preprocessing\n",
        "\n",
        "\n",
        "1.   Used KNN imputation as it improved AUC score than normanl mean, mode imputaion.\n",
        "2.    One Hot encoded categorical features\n",
        "3.   Standardized values\n",
        "\n"
      ]
    },
    {
      "cell_type": "code",
      "metadata": {
        "id": "ECvhOga3i3oE",
        "colab_type": "code",
        "outputId": "6090ca70-9bfe-4463-a759-9b79481a0b62",
        "colab": {
          "base_uri": "https://localhost:8080/",
          "height": 51
        }
      },
      "source": [
        "from google.colab import drive\n",
        "drive.mount('/content/drive')\n",
        "\n",
        "%cd drive/My\\ Drive/Datasets/Janata_hackathon_04"
      ],
      "execution_count": 1,
      "outputs": [
        {
          "output_type": "stream",
          "text": [
            "Drive already mounted at /content/drive; to attempt to forcibly remount, call drive.mount(\"/content/drive\", force_remount=True).\n",
            "/content/drive/My Drive/Datasets/Janata_hackathon_04\n"
          ],
          "name": "stdout"
        }
      ]
    },
    {
      "cell_type": "code",
      "metadata": {
        "id": "J74_S9tmjtEs",
        "colab_type": "code",
        "outputId": "1cf5463a-dff3-4f3c-8224-f3b463637bfd",
        "colab": {
          "base_uri": "https://localhost:8080/",
          "height": 51
        }
      },
      "source": [
        "import pandas as pd\n",
        "import numpy as np\n",
        "import matplotlib.pyplot as plt\n",
        "import category_encoders as ce\n",
        "from sklearn.impute import KNNImputer\n",
        "import warnings\n",
        "warnings.filterwarnings('ignore')"
      ],
      "execution_count": 2,
      "outputs": [
        {
          "output_type": "stream",
          "text": [
            "/usr/local/lib/python3.6/dist-packages/statsmodels/tools/_testing.py:19: FutureWarning: pandas.util.testing is deprecated. Use the functions in the public API at pandas.testing instead.\n",
            "  import pandas.util.testing as tm\n"
          ],
          "name": "stderr"
        }
      ]
    },
    {
      "cell_type": "code",
      "metadata": {
        "id": "8E_R2CrskIUJ",
        "colab_type": "code",
        "colab": {}
      },
      "source": [
        "train_df = pd.read_csv('train.csv')\n",
        "test_df = pd.read_csv('test.csv')"
      ],
      "execution_count": 0,
      "outputs": []
    },
    {
      "cell_type": "code",
      "metadata": {
        "id": "afsGj2_MmS_N",
        "colab_type": "code",
        "outputId": "49ef9c18-5023-411a-ea88-d296f0afafe8",
        "colab": {
          "base_uri": "https://localhost:8080/",
          "height": 292
        }
      },
      "source": [
        "train_df.head()"
      ],
      "execution_count": 4,
      "outputs": [
        {
          "output_type": "execute_result",
          "data": {
            "text/html": [
              "<div>\n",
              "<style scoped>\n",
              "    .dataframe tbody tr th:only-of-type {\n",
              "        vertical-align: middle;\n",
              "    }\n",
              "\n",
              "    .dataframe tbody tr th {\n",
              "        vertical-align: top;\n",
              "    }\n",
              "\n",
              "    .dataframe thead th {\n",
              "        text-align: right;\n",
              "    }\n",
              "</style>\n",
              "<table border=\"1\" class=\"dataframe\">\n",
              "  <thead>\n",
              "    <tr style=\"text-align: right;\">\n",
              "      <th></th>\n",
              "      <th>enrollee_id</th>\n",
              "      <th>city</th>\n",
              "      <th>city_development_index</th>\n",
              "      <th>gender</th>\n",
              "      <th>relevent_experience</th>\n",
              "      <th>enrolled_university</th>\n",
              "      <th>education_level</th>\n",
              "      <th>major_discipline</th>\n",
              "      <th>experience</th>\n",
              "      <th>company_size</th>\n",
              "      <th>company_type</th>\n",
              "      <th>last_new_job</th>\n",
              "      <th>training_hours</th>\n",
              "      <th>target</th>\n",
              "    </tr>\n",
              "  </thead>\n",
              "  <tbody>\n",
              "    <tr>\n",
              "      <th>0</th>\n",
              "      <td>23798</td>\n",
              "      <td>city_149</td>\n",
              "      <td>0.689</td>\n",
              "      <td>Male</td>\n",
              "      <td>Has relevent experience</td>\n",
              "      <td>no_enrollment</td>\n",
              "      <td>Graduate</td>\n",
              "      <td>STEM</td>\n",
              "      <td>3</td>\n",
              "      <td>100-500</td>\n",
              "      <td>Pvt Ltd</td>\n",
              "      <td>1</td>\n",
              "      <td>106</td>\n",
              "      <td>0</td>\n",
              "    </tr>\n",
              "    <tr>\n",
              "      <th>1</th>\n",
              "      <td>29166</td>\n",
              "      <td>city_83</td>\n",
              "      <td>0.923</td>\n",
              "      <td>Male</td>\n",
              "      <td>Has relevent experience</td>\n",
              "      <td>no_enrollment</td>\n",
              "      <td>Graduate</td>\n",
              "      <td>STEM</td>\n",
              "      <td>14</td>\n",
              "      <td>&lt;10</td>\n",
              "      <td>Funded Startup</td>\n",
              "      <td>1</td>\n",
              "      <td>69</td>\n",
              "      <td>0</td>\n",
              "    </tr>\n",
              "    <tr>\n",
              "      <th>2</th>\n",
              "      <td>46</td>\n",
              "      <td>city_16</td>\n",
              "      <td>0.910</td>\n",
              "      <td>NaN</td>\n",
              "      <td>Has relevent experience</td>\n",
              "      <td>no_enrollment</td>\n",
              "      <td>Graduate</td>\n",
              "      <td>STEM</td>\n",
              "      <td>6</td>\n",
              "      <td>50-99</td>\n",
              "      <td>Public Sector</td>\n",
              "      <td>2</td>\n",
              "      <td>4</td>\n",
              "      <td>0</td>\n",
              "    </tr>\n",
              "    <tr>\n",
              "      <th>3</th>\n",
              "      <td>18527</td>\n",
              "      <td>city_64</td>\n",
              "      <td>0.666</td>\n",
              "      <td>Male</td>\n",
              "      <td>Has relevent experience</td>\n",
              "      <td>no_enrollment</td>\n",
              "      <td>Graduate</td>\n",
              "      <td>STEM</td>\n",
              "      <td>14</td>\n",
              "      <td>50-99</td>\n",
              "      <td>Pvt Ltd</td>\n",
              "      <td>1</td>\n",
              "      <td>26</td>\n",
              "      <td>0</td>\n",
              "    </tr>\n",
              "    <tr>\n",
              "      <th>4</th>\n",
              "      <td>21751</td>\n",
              "      <td>city_100</td>\n",
              "      <td>0.887</td>\n",
              "      <td>NaN</td>\n",
              "      <td>No relevent experience</td>\n",
              "      <td>no_enrollment</td>\n",
              "      <td>Masters</td>\n",
              "      <td>STEM</td>\n",
              "      <td>8</td>\n",
              "      <td>NaN</td>\n",
              "      <td>NaN</td>\n",
              "      <td>2</td>\n",
              "      <td>88</td>\n",
              "      <td>1</td>\n",
              "    </tr>\n",
              "  </tbody>\n",
              "</table>\n",
              "</div>"
            ],
            "text/plain": [
              "   enrollee_id      city  ...  training_hours target\n",
              "0        23798  city_149  ...             106      0\n",
              "1        29166   city_83  ...              69      0\n",
              "2           46   city_16  ...               4      0\n",
              "3        18527   city_64  ...              26      0\n",
              "4        21751  city_100  ...              88      1\n",
              "\n",
              "[5 rows x 14 columns]"
            ]
          },
          "metadata": {
            "tags": []
          },
          "execution_count": 4
        }
      ]
    },
    {
      "cell_type": "code",
      "metadata": {
        "id": "45hjspd0mUMw",
        "colab_type": "code",
        "outputId": "38ebfa9e-f49b-4e3f-b61c-68644dbecf4d",
        "colab": {
          "base_uri": "https://localhost:8080/",
          "height": 272
        }
      },
      "source": [
        "train_df.isna().sum()"
      ],
      "execution_count": 5,
      "outputs": [
        {
          "output_type": "execute_result",
          "data": {
            "text/plain": [
              "enrollee_id                  0\n",
              "city                         0\n",
              "city_development_index       0\n",
              "gender                    4098\n",
              "relevent_experience          0\n",
              "enrolled_university        342\n",
              "education_level            457\n",
              "major_discipline          2838\n",
              "experience                  59\n",
              "company_size              4779\n",
              "company_type              5039\n",
              "last_new_job               367\n",
              "training_hours               0\n",
              "target                       0\n",
              "dtype: int64"
            ]
          },
          "metadata": {
            "tags": []
          },
          "execution_count": 5
        }
      ]
    },
    {
      "cell_type": "code",
      "metadata": {
        "id": "07-mXdqWmrro",
        "colab_type": "code",
        "outputId": "5272d542-436d-4a27-9375-6d009b278efe",
        "colab": {
          "base_uri": "https://localhost:8080/",
          "height": 255
        }
      },
      "source": [
        "test_df.isna().sum()"
      ],
      "execution_count": 6,
      "outputs": [
        {
          "output_type": "execute_result",
          "data": {
            "text/plain": [
              "enrollee_id                  0\n",
              "city                         0\n",
              "city_development_index       0\n",
              "gender                    3388\n",
              "relevent_experience          0\n",
              "enrolled_university        279\n",
              "education_level            395\n",
              "major_discipline          2393\n",
              "experience                  44\n",
              "company_size              4051\n",
              "company_type              4330\n",
              "last_new_job               304\n",
              "training_hours               0\n",
              "dtype: int64"
            ]
          },
          "metadata": {
            "tags": []
          },
          "execution_count": 6
        }
      ]
    },
    {
      "cell_type": "code",
      "metadata": {
        "id": "0afFMP3jmtKz",
        "colab_type": "code",
        "outputId": "9d754438-6a16-4a6f-f123-cbbdf2291d4e",
        "colab": {
          "base_uri": "https://localhost:8080/",
          "height": 272
        }
      },
      "source": [
        "train_df.nunique()"
      ],
      "execution_count": 7,
      "outputs": [
        {
          "output_type": "execute_result",
          "data": {
            "text/plain": [
              "enrollee_id               18359\n",
              "city                        123\n",
              "city_development_index       93\n",
              "gender                        3\n",
              "relevent_experience           2\n",
              "enrolled_university           3\n",
              "education_level               5\n",
              "major_discipline              6\n",
              "experience                   22\n",
              "company_size                  8\n",
              "company_type                  6\n",
              "last_new_job                  6\n",
              "training_hours              241\n",
              "target                        2\n",
              "dtype: int64"
            ]
          },
          "metadata": {
            "tags": []
          },
          "execution_count": 7
        }
      ]
    },
    {
      "cell_type": "code",
      "metadata": {
        "id": "ktvHWdFUm9KV",
        "colab_type": "code",
        "outputId": "6a24bb38-fe7b-47fb-9177-eb51948549a1",
        "colab": {
          "base_uri": "https://localhost:8080/",
          "height": 68
        }
      },
      "source": [
        "train_df['target'].value_counts()"
      ],
      "execution_count": 8,
      "outputs": [
        {
          "output_type": "execute_result",
          "data": {
            "text/plain": [
              "0    15934\n",
              "1     2425\n",
              "Name: target, dtype: int64"
            ]
          },
          "metadata": {
            "tags": []
          },
          "execution_count": 8
        }
      ]
    },
    {
      "cell_type": "code",
      "metadata": {
        "id": "1rtM-ZKOr0Xm",
        "colab_type": "code",
        "colab": {}
      },
      "source": [
        "train_size = len(train_df)"
      ],
      "execution_count": 0,
      "outputs": []
    },
    {
      "cell_type": "code",
      "metadata": {
        "id": "QNnrh_ejsVqN",
        "colab_type": "code",
        "colab": {}
      },
      "source": [
        "Y = train_df['target'].values\n",
        "ids = test_df['enrollee_id']\n",
        "train_df = train_df.drop(['target'], axis=1)"
      ],
      "execution_count": 0,
      "outputs": []
    },
    {
      "cell_type": "code",
      "metadata": {
        "id": "GjdboBJ2rxRf",
        "colab_type": "code",
        "colab": {}
      },
      "source": [
        "df = pd.concat([train_df, test_df],axis=0)\n",
        "df = df.drop(['enrollee_id'], axis=1)"
      ],
      "execution_count": 0,
      "outputs": []
    },
    {
      "cell_type": "code",
      "metadata": {
        "id": "RoB0jcrdtI55",
        "colab_type": "code",
        "outputId": "b4a74a19-af28-4410-c53a-07bd7ab60ad7",
        "colab": {
          "base_uri": "https://localhost:8080/",
          "height": 204
        }
      },
      "source": [
        "df.head()"
      ],
      "execution_count": 12,
      "outputs": [
        {
          "output_type": "execute_result",
          "data": {
            "text/html": [
              "<div>\n",
              "<style scoped>\n",
              "    .dataframe tbody tr th:only-of-type {\n",
              "        vertical-align: middle;\n",
              "    }\n",
              "\n",
              "    .dataframe tbody tr th {\n",
              "        vertical-align: top;\n",
              "    }\n",
              "\n",
              "    .dataframe thead th {\n",
              "        text-align: right;\n",
              "    }\n",
              "</style>\n",
              "<table border=\"1\" class=\"dataframe\">\n",
              "  <thead>\n",
              "    <tr style=\"text-align: right;\">\n",
              "      <th></th>\n",
              "      <th>city</th>\n",
              "      <th>city_development_index</th>\n",
              "      <th>gender</th>\n",
              "      <th>relevent_experience</th>\n",
              "      <th>enrolled_university</th>\n",
              "      <th>education_level</th>\n",
              "      <th>major_discipline</th>\n",
              "      <th>experience</th>\n",
              "      <th>company_size</th>\n",
              "      <th>company_type</th>\n",
              "      <th>last_new_job</th>\n",
              "      <th>training_hours</th>\n",
              "    </tr>\n",
              "  </thead>\n",
              "  <tbody>\n",
              "    <tr>\n",
              "      <th>0</th>\n",
              "      <td>city_149</td>\n",
              "      <td>0.689</td>\n",
              "      <td>Male</td>\n",
              "      <td>Has relevent experience</td>\n",
              "      <td>no_enrollment</td>\n",
              "      <td>Graduate</td>\n",
              "      <td>STEM</td>\n",
              "      <td>3</td>\n",
              "      <td>100-500</td>\n",
              "      <td>Pvt Ltd</td>\n",
              "      <td>1</td>\n",
              "      <td>106</td>\n",
              "    </tr>\n",
              "    <tr>\n",
              "      <th>1</th>\n",
              "      <td>city_83</td>\n",
              "      <td>0.923</td>\n",
              "      <td>Male</td>\n",
              "      <td>Has relevent experience</td>\n",
              "      <td>no_enrollment</td>\n",
              "      <td>Graduate</td>\n",
              "      <td>STEM</td>\n",
              "      <td>14</td>\n",
              "      <td>&lt;10</td>\n",
              "      <td>Funded Startup</td>\n",
              "      <td>1</td>\n",
              "      <td>69</td>\n",
              "    </tr>\n",
              "    <tr>\n",
              "      <th>2</th>\n",
              "      <td>city_16</td>\n",
              "      <td>0.910</td>\n",
              "      <td>NaN</td>\n",
              "      <td>Has relevent experience</td>\n",
              "      <td>no_enrollment</td>\n",
              "      <td>Graduate</td>\n",
              "      <td>STEM</td>\n",
              "      <td>6</td>\n",
              "      <td>50-99</td>\n",
              "      <td>Public Sector</td>\n",
              "      <td>2</td>\n",
              "      <td>4</td>\n",
              "    </tr>\n",
              "    <tr>\n",
              "      <th>3</th>\n",
              "      <td>city_64</td>\n",
              "      <td>0.666</td>\n",
              "      <td>Male</td>\n",
              "      <td>Has relevent experience</td>\n",
              "      <td>no_enrollment</td>\n",
              "      <td>Graduate</td>\n",
              "      <td>STEM</td>\n",
              "      <td>14</td>\n",
              "      <td>50-99</td>\n",
              "      <td>Pvt Ltd</td>\n",
              "      <td>1</td>\n",
              "      <td>26</td>\n",
              "    </tr>\n",
              "    <tr>\n",
              "      <th>4</th>\n",
              "      <td>city_100</td>\n",
              "      <td>0.887</td>\n",
              "      <td>NaN</td>\n",
              "      <td>No relevent experience</td>\n",
              "      <td>no_enrollment</td>\n",
              "      <td>Masters</td>\n",
              "      <td>STEM</td>\n",
              "      <td>8</td>\n",
              "      <td>NaN</td>\n",
              "      <td>NaN</td>\n",
              "      <td>2</td>\n",
              "      <td>88</td>\n",
              "    </tr>\n",
              "  </tbody>\n",
              "</table>\n",
              "</div>"
            ],
            "text/plain": [
              "       city  city_development_index  ... last_new_job training_hours\n",
              "0  city_149                   0.689  ...            1            106\n",
              "1   city_83                   0.923  ...            1             69\n",
              "2   city_16                   0.910  ...            2              4\n",
              "3   city_64                   0.666  ...            1             26\n",
              "4  city_100                   0.887  ...            2             88\n",
              "\n",
              "[5 rows x 12 columns]"
            ]
          },
          "metadata": {
            "tags": []
          },
          "execution_count": 12
        }
      ]
    },
    {
      "cell_type": "code",
      "metadata": {
        "id": "cxQAcO5YN6G3",
        "colab_type": "code",
        "outputId": "718edc33-868a-4c11-ae4f-cfae92fee019",
        "colab": {
          "base_uri": "https://localhost:8080/",
          "height": 136
        }
      },
      "source": [
        "df['last_new_job'].value_counts()"
      ],
      "execution_count": 13,
      "outputs": [
        {
          "output_type": "execute_result",
          "data": {
            "text/plain": [
              "1        13813\n",
              ">4        6023\n",
              "2         5133\n",
              "never     3943\n",
              "3         1922\n",
              "4         1875\n",
              "Name: last_new_job, dtype: int64"
            ]
          },
          "metadata": {
            "tags": []
          },
          "execution_count": 13
        }
      ]
    },
    {
      "cell_type": "code",
      "metadata": {
        "id": "eTYRIun2Hivm",
        "colab_type": "code",
        "outputId": "24566985-73a4-48fc-c847-47727af1bb6a",
        "colab": {
          "base_uri": "https://localhost:8080/",
          "height": 408
        }
      },
      "source": [
        "df['experience'].value_counts()"
      ],
      "execution_count": 14,
      "outputs": [
        {
          "output_type": "execute_result",
          "data": {
            "text/plain": [
              ">20    6150\n",
              "5      2400\n",
              "4      2240\n",
              "3      2166\n",
              "6      2039\n",
              "7      1779\n",
              "2      1756\n",
              "10     1753\n",
              "9      1722\n",
              "8      1423\n",
              "15     1244\n",
              "11     1190\n",
              "14     1080\n",
              "16      964\n",
              "12      905\n",
              "1       818\n",
              "<1      782\n",
              "13      763\n",
              "17      659\n",
              "19      590\n",
              "18      533\n",
              "20      321\n",
              "Name: experience, dtype: int64"
            ]
          },
          "metadata": {
            "tags": []
          },
          "execution_count": 14
        }
      ]
    },
    {
      "cell_type": "code",
      "metadata": {
        "id": "sbZmwgHaH2R0",
        "colab_type": "code",
        "colab": {}
      },
      "source": [
        "l = []\n",
        "for i in df['experience']:\n",
        "  if(i=='>20'):\n",
        "    l.append(20.0)\n",
        "  elif(i=='<1'):\n",
        "    l.append(0.0)\n",
        "  else:\n",
        "    l.append(float(i))\n",
        "df['experience'] = l"
      ],
      "execution_count": 0,
      "outputs": []
    },
    {
      "cell_type": "code",
      "metadata": {
        "id": "TEeaDmHgsnj9",
        "colab_type": "code",
        "colab": {}
      },
      "source": [
        "cat_col = ['city', 'gender', 'relevent_experience', 'enrolled_university', 'education_level', 'major_discipline', 'last_new_job', 'company_size', 'company_type']\n",
        "con_col = ['city_development_index', 'experience', 'training_hours']\n",
        "cols = list(df.columns.values)"
      ],
      "execution_count": 0,
      "outputs": []
    },
    {
      "cell_type": "code",
      "metadata": {
        "id": "2214kxw146W8",
        "colab_type": "code",
        "colab": {}
      },
      "source": [
        "ce_bin = ce.OneHotEncoder(cols=cat_col)\n",
        "df = ce_bin.fit_transform(df)"
      ],
      "execution_count": 0,
      "outputs": []
    },
    {
      "cell_type": "code",
      "metadata": {
        "id": "lWWYnZHcwm-o",
        "colab_type": "code",
        "colab": {}
      },
      "source": [
        "imputer = KNNImputer(n_neighbors=3)\n",
        "new_df = imputer.fit_transform(df)\n",
        "tdf = pd.DataFrame()\n",
        "j = 0 \n",
        "for i in list(df.columns.values):\n",
        "  df[i] = new_df[:,j]\n",
        "  j += 1"
      ],
      "execution_count": 0,
      "outputs": []
    },
    {
      "cell_type": "code",
      "metadata": {
        "id": "GSo5dVmyjJIF",
        "colab_type": "code",
        "colab": {
          "base_uri": "https://localhost:8080/",
          "height": 191
        },
        "outputId": "9bd75fa3-76af-4e9a-d0bd-706258385951"
      },
      "source": [
        "df=((df-df.min())/(df.std()))\n",
        "df.head(3)"
      ],
      "execution_count": 19,
      "outputs": [
        {
          "output_type": "execute_result",
          "data": {
            "text/html": [
              "<div>\n",
              "<style scoped>\n",
              "    .dataframe tbody tr th:only-of-type {\n",
              "        vertical-align: middle;\n",
              "    }\n",
              "\n",
              "    .dataframe tbody tr th {\n",
              "        vertical-align: top;\n",
              "    }\n",
              "\n",
              "    .dataframe thead th {\n",
              "        text-align: right;\n",
              "    }\n",
              "</style>\n",
              "<table border=\"1\" class=\"dataframe\">\n",
              "  <thead>\n",
              "    <tr style=\"text-align: right;\">\n",
              "      <th></th>\n",
              "      <th>city_1</th>\n",
              "      <th>city_2</th>\n",
              "      <th>city_3</th>\n",
              "      <th>city_4</th>\n",
              "      <th>city_5</th>\n",
              "      <th>city_6</th>\n",
              "      <th>city_7</th>\n",
              "      <th>city_8</th>\n",
              "      <th>city_9</th>\n",
              "      <th>city_10</th>\n",
              "      <th>city_11</th>\n",
              "      <th>city_12</th>\n",
              "      <th>city_13</th>\n",
              "      <th>city_14</th>\n",
              "      <th>city_15</th>\n",
              "      <th>city_16</th>\n",
              "      <th>city_17</th>\n",
              "      <th>city_18</th>\n",
              "      <th>city_19</th>\n",
              "      <th>city_20</th>\n",
              "      <th>city_21</th>\n",
              "      <th>city_22</th>\n",
              "      <th>city_23</th>\n",
              "      <th>city_24</th>\n",
              "      <th>city_25</th>\n",
              "      <th>city_26</th>\n",
              "      <th>city_27</th>\n",
              "      <th>city_28</th>\n",
              "      <th>city_29</th>\n",
              "      <th>city_30</th>\n",
              "      <th>city_31</th>\n",
              "      <th>city_32</th>\n",
              "      <th>city_33</th>\n",
              "      <th>city_34</th>\n",
              "      <th>city_35</th>\n",
              "      <th>city_36</th>\n",
              "      <th>city_37</th>\n",
              "      <th>city_38</th>\n",
              "      <th>city_39</th>\n",
              "      <th>city_40</th>\n",
              "      <th>...</th>\n",
              "      <th>enrolled_university_3</th>\n",
              "      <th>enrolled_university_4</th>\n",
              "      <th>education_level_1</th>\n",
              "      <th>education_level_2</th>\n",
              "      <th>education_level_3</th>\n",
              "      <th>education_level_4</th>\n",
              "      <th>education_level_5</th>\n",
              "      <th>education_level_6</th>\n",
              "      <th>major_discipline_1</th>\n",
              "      <th>major_discipline_2</th>\n",
              "      <th>major_discipline_3</th>\n",
              "      <th>major_discipline_4</th>\n",
              "      <th>major_discipline_5</th>\n",
              "      <th>major_discipline_6</th>\n",
              "      <th>major_discipline_7</th>\n",
              "      <th>experience</th>\n",
              "      <th>company_size_1</th>\n",
              "      <th>company_size_2</th>\n",
              "      <th>company_size_3</th>\n",
              "      <th>company_size_4</th>\n",
              "      <th>company_size_5</th>\n",
              "      <th>company_size_6</th>\n",
              "      <th>company_size_7</th>\n",
              "      <th>company_size_8</th>\n",
              "      <th>company_size_9</th>\n",
              "      <th>company_type_1</th>\n",
              "      <th>company_type_2</th>\n",
              "      <th>company_type_3</th>\n",
              "      <th>company_type_4</th>\n",
              "      <th>company_type_5</th>\n",
              "      <th>company_type_6</th>\n",
              "      <th>company_type_7</th>\n",
              "      <th>last_new_job_1</th>\n",
              "      <th>last_new_job_2</th>\n",
              "      <th>last_new_job_3</th>\n",
              "      <th>last_new_job_4</th>\n",
              "      <th>last_new_job_5</th>\n",
              "      <th>last_new_job_6</th>\n",
              "      <th>last_new_job_7</th>\n",
              "      <th>training_hours</th>\n",
              "    </tr>\n",
              "  </thead>\n",
              "  <tbody>\n",
              "    <tr>\n",
              "      <th>0</th>\n",
              "      <td>13.155323</td>\n",
              "      <td>0.000000</td>\n",
              "      <td>0.000000</td>\n",
              "      <td>0.0</td>\n",
              "      <td>0.0</td>\n",
              "      <td>0.0</td>\n",
              "      <td>0.0</td>\n",
              "      <td>0.0</td>\n",
              "      <td>0.0</td>\n",
              "      <td>0.0</td>\n",
              "      <td>0.0</td>\n",
              "      <td>0.0</td>\n",
              "      <td>0.0</td>\n",
              "      <td>0.0</td>\n",
              "      <td>0.0</td>\n",
              "      <td>0.0</td>\n",
              "      <td>0.0</td>\n",
              "      <td>0.0</td>\n",
              "      <td>0.0</td>\n",
              "      <td>0.0</td>\n",
              "      <td>0.0</td>\n",
              "      <td>0.0</td>\n",
              "      <td>0.0</td>\n",
              "      <td>0.0</td>\n",
              "      <td>0.0</td>\n",
              "      <td>0.0</td>\n",
              "      <td>0.0</td>\n",
              "      <td>0.0</td>\n",
              "      <td>0.0</td>\n",
              "      <td>0.0</td>\n",
              "      <td>0.0</td>\n",
              "      <td>0.0</td>\n",
              "      <td>0.0</td>\n",
              "      <td>0.0</td>\n",
              "      <td>0.0</td>\n",
              "      <td>0.0</td>\n",
              "      <td>0.0</td>\n",
              "      <td>0.0</td>\n",
              "      <td>0.0</td>\n",
              "      <td>0.0</td>\n",
              "      <td>...</td>\n",
              "      <td>0.0</td>\n",
              "      <td>0.0</td>\n",
              "      <td>2.029187</td>\n",
              "      <td>0.0</td>\n",
              "      <td>0.0</td>\n",
              "      <td>0.0</td>\n",
              "      <td>0.0</td>\n",
              "      <td>0.0</td>\n",
              "      <td>2.293115</td>\n",
              "      <td>0.0</td>\n",
              "      <td>0.0</td>\n",
              "      <td>0.0</td>\n",
              "      <td>0.0</td>\n",
              "      <td>0.0</td>\n",
              "      <td>0.0</td>\n",
              "      <td>0.460965</td>\n",
              "      <td>2.83886</td>\n",
              "      <td>0.00000</td>\n",
              "      <td>0.00000</td>\n",
              "      <td>0.0</td>\n",
              "      <td>0.0</td>\n",
              "      <td>0.0</td>\n",
              "      <td>0.0</td>\n",
              "      <td>0.0</td>\n",
              "      <td>0.0</td>\n",
              "      <td>2.00729</td>\n",
              "      <td>0.000000</td>\n",
              "      <td>0.000000</td>\n",
              "      <td>0.0</td>\n",
              "      <td>0.0</td>\n",
              "      <td>0.0</td>\n",
              "      <td>0.0</td>\n",
              "      <td>2.030363</td>\n",
              "      <td>0.000000</td>\n",
              "      <td>0.0</td>\n",
              "      <td>0.0</td>\n",
              "      <td>0.0</td>\n",
              "      <td>0.0</td>\n",
              "      <td>0.0</td>\n",
              "      <td>1.739460</td>\n",
              "    </tr>\n",
              "    <tr>\n",
              "      <th>1</th>\n",
              "      <td>0.000000</td>\n",
              "      <td>11.763054</td>\n",
              "      <td>0.000000</td>\n",
              "      <td>0.0</td>\n",
              "      <td>0.0</td>\n",
              "      <td>0.0</td>\n",
              "      <td>0.0</td>\n",
              "      <td>0.0</td>\n",
              "      <td>0.0</td>\n",
              "      <td>0.0</td>\n",
              "      <td>0.0</td>\n",
              "      <td>0.0</td>\n",
              "      <td>0.0</td>\n",
              "      <td>0.0</td>\n",
              "      <td>0.0</td>\n",
              "      <td>0.0</td>\n",
              "      <td>0.0</td>\n",
              "      <td>0.0</td>\n",
              "      <td>0.0</td>\n",
              "      <td>0.0</td>\n",
              "      <td>0.0</td>\n",
              "      <td>0.0</td>\n",
              "      <td>0.0</td>\n",
              "      <td>0.0</td>\n",
              "      <td>0.0</td>\n",
              "      <td>0.0</td>\n",
              "      <td>0.0</td>\n",
              "      <td>0.0</td>\n",
              "      <td>0.0</td>\n",
              "      <td>0.0</td>\n",
              "      <td>0.0</td>\n",
              "      <td>0.0</td>\n",
              "      <td>0.0</td>\n",
              "      <td>0.0</td>\n",
              "      <td>0.0</td>\n",
              "      <td>0.0</td>\n",
              "      <td>0.0</td>\n",
              "      <td>0.0</td>\n",
              "      <td>0.0</td>\n",
              "      <td>0.0</td>\n",
              "      <td>...</td>\n",
              "      <td>0.0</td>\n",
              "      <td>0.0</td>\n",
              "      <td>2.029187</td>\n",
              "      <td>0.0</td>\n",
              "      <td>0.0</td>\n",
              "      <td>0.0</td>\n",
              "      <td>0.0</td>\n",
              "      <td>0.0</td>\n",
              "      <td>2.293115</td>\n",
              "      <td>0.0</td>\n",
              "      <td>0.0</td>\n",
              "      <td>0.0</td>\n",
              "      <td>0.0</td>\n",
              "      <td>0.0</td>\n",
              "      <td>0.0</td>\n",
              "      <td>2.151168</td>\n",
              "      <td>0.00000</td>\n",
              "      <td>3.82444</td>\n",
              "      <td>0.00000</td>\n",
              "      <td>0.0</td>\n",
              "      <td>0.0</td>\n",
              "      <td>0.0</td>\n",
              "      <td>0.0</td>\n",
              "      <td>0.0</td>\n",
              "      <td>0.0</td>\n",
              "      <td>0.00000</td>\n",
              "      <td>4.337561</td>\n",
              "      <td>0.000000</td>\n",
              "      <td>0.0</td>\n",
              "      <td>0.0</td>\n",
              "      <td>0.0</td>\n",
              "      <td>0.0</td>\n",
              "      <td>2.030363</td>\n",
              "      <td>0.000000</td>\n",
              "      <td>0.0</td>\n",
              "      <td>0.0</td>\n",
              "      <td>0.0</td>\n",
              "      <td>0.0</td>\n",
              "      <td>0.0</td>\n",
              "      <td>1.126507</td>\n",
              "    </tr>\n",
              "    <tr>\n",
              "      <th>2</th>\n",
              "      <td>0.000000</td>\n",
              "      <td>0.000000</td>\n",
              "      <td>3.534975</td>\n",
              "      <td>0.0</td>\n",
              "      <td>0.0</td>\n",
              "      <td>0.0</td>\n",
              "      <td>0.0</td>\n",
              "      <td>0.0</td>\n",
              "      <td>0.0</td>\n",
              "      <td>0.0</td>\n",
              "      <td>0.0</td>\n",
              "      <td>0.0</td>\n",
              "      <td>0.0</td>\n",
              "      <td>0.0</td>\n",
              "      <td>0.0</td>\n",
              "      <td>0.0</td>\n",
              "      <td>0.0</td>\n",
              "      <td>0.0</td>\n",
              "      <td>0.0</td>\n",
              "      <td>0.0</td>\n",
              "      <td>0.0</td>\n",
              "      <td>0.0</td>\n",
              "      <td>0.0</td>\n",
              "      <td>0.0</td>\n",
              "      <td>0.0</td>\n",
              "      <td>0.0</td>\n",
              "      <td>0.0</td>\n",
              "      <td>0.0</td>\n",
              "      <td>0.0</td>\n",
              "      <td>0.0</td>\n",
              "      <td>0.0</td>\n",
              "      <td>0.0</td>\n",
              "      <td>0.0</td>\n",
              "      <td>0.0</td>\n",
              "      <td>0.0</td>\n",
              "      <td>0.0</td>\n",
              "      <td>0.0</td>\n",
              "      <td>0.0</td>\n",
              "      <td>0.0</td>\n",
              "      <td>0.0</td>\n",
              "      <td>...</td>\n",
              "      <td>0.0</td>\n",
              "      <td>0.0</td>\n",
              "      <td>2.029187</td>\n",
              "      <td>0.0</td>\n",
              "      <td>0.0</td>\n",
              "      <td>0.0</td>\n",
              "      <td>0.0</td>\n",
              "      <td>0.0</td>\n",
              "      <td>2.293115</td>\n",
              "      <td>0.0</td>\n",
              "      <td>0.0</td>\n",
              "      <td>0.0</td>\n",
              "      <td>0.0</td>\n",
              "      <td>0.0</td>\n",
              "      <td>0.0</td>\n",
              "      <td>0.921929</td>\n",
              "      <td>0.00000</td>\n",
              "      <td>0.00000</td>\n",
              "      <td>2.65797</td>\n",
              "      <td>0.0</td>\n",
              "      <td>0.0</td>\n",
              "      <td>0.0</td>\n",
              "      <td>0.0</td>\n",
              "      <td>0.0</td>\n",
              "      <td>0.0</td>\n",
              "      <td>0.00000</td>\n",
              "      <td>0.000000</td>\n",
              "      <td>4.436595</td>\n",
              "      <td>0.0</td>\n",
              "      <td>0.0</td>\n",
              "      <td>0.0</td>\n",
              "      <td>0.0</td>\n",
              "      <td>0.000000</td>\n",
              "      <td>2.772094</td>\n",
              "      <td>0.0</td>\n",
              "      <td>0.0</td>\n",
              "      <td>0.0</td>\n",
              "      <td>0.0</td>\n",
              "      <td>0.0</td>\n",
              "      <td>0.049699</td>\n",
              "    </tr>\n",
              "  </tbody>\n",
              "</table>\n",
              "<p>3 rows × 172 columns</p>\n",
              "</div>"
            ],
            "text/plain": [
              "      city_1     city_2  ...  last_new_job_7  training_hours\n",
              "0  13.155323   0.000000  ...             0.0        1.739460\n",
              "1   0.000000  11.763054  ...             0.0        1.126507\n",
              "2   0.000000   0.000000  ...             0.0        0.049699\n",
              "\n",
              "[3 rows x 172 columns]"
            ]
          },
          "metadata": {
            "tags": []
          },
          "execution_count": 19
        }
      ]
    },
    {
      "cell_type": "code",
      "metadata": {
        "id": "C8ZyzghivrcC",
        "colab_type": "code",
        "colab": {}
      },
      "source": [
        "train_df = df[:train_size].copy()\n",
        "test_df = df[train_size:].copy()"
      ],
      "execution_count": 0,
      "outputs": []
    },
    {
      "cell_type": "code",
      "metadata": {
        "id": "ETri8lFu4Jan",
        "colab_type": "code",
        "colab": {
          "base_uri": "https://localhost:8080/",
          "height": 34
        },
        "outputId": "1d1b9ad3-1ed5-4e55-eeee-7f031e645494"
      },
      "source": [
        "test_df.shape"
      ],
      "execution_count": 21,
      "outputs": [
        {
          "output_type": "execute_result",
          "data": {
            "text/plain": [
              "(15021, 172)"
            ]
          },
          "metadata": {
            "tags": []
          },
          "execution_count": 21
        }
      ]
    },
    {
      "cell_type": "markdown",
      "metadata": {
        "id": "TDflfJaMuceo",
        "colab_type": "text"
      },
      "source": [
        "# Models\n",
        "1. Used an ensemble of Xgboost, Catboost, LightGBM and H2O GBT for final modeling.\n",
        "2. Under Sampling or Over Sampling didn't improve AUC score."
      ]
    },
    {
      "cell_type": "code",
      "metadata": {
        "id": "OT834kTOyMEC",
        "colab_type": "code",
        "outputId": "04c0923d-8368-4994-b2d7-e4fa4ac52a8c",
        "colab": {
          "base_uri": "https://localhost:8080/",
          "height": 34
        }
      },
      "source": [
        "from sklearn.model_selection import train_test_split\n",
        "from sklearn.metrics import roc_auc_score as roc\n",
        "X_train, X_test, y_train, y_test = train_test_split(train_df, Y,test_size=0.2, random_state=0, stratify=Y)\n",
        "X_train.shape, X_test.shape"
      ],
      "execution_count": 22,
      "outputs": [
        {
          "output_type": "execute_result",
          "data": {
            "text/plain": [
              "((14687, 172), (3672, 172))"
            ]
          },
          "metadata": {
            "tags": []
          },
          "execution_count": 22
        }
      ]
    },
    {
      "cell_type": "code",
      "metadata": {
        "id": "2j4LgNcHHF_S",
        "colab_type": "code",
        "outputId": "b4746009-9b2f-461c-8642-954d6bbfef3a",
        "colab": {
          "base_uri": "https://localhost:8080/",
          "height": 34
        }
      },
      "source": [
        "from catboost import CatBoostClassifier, Pool\n",
        "cat = CatBoostClassifier(iterations=200, custom_metric=['AUC'], class_weights=[1,10], logging_level='Silent')\n",
        "cat.fit(X_train, y_train, eval_set=(X_test,y_test), use_best_model=True)\n",
        "print(roc(y_test,cat.predict_proba(X_test)[:,1]))"
      ],
      "execution_count": 23,
      "outputs": [
        {
          "output_type": "stream",
          "text": [
            "0.6562588350224333\n"
          ],
          "name": "stdout"
        }
      ]
    },
    {
      "cell_type": "code",
      "metadata": {
        "id": "pYezOnf75Esa",
        "colab_type": "code",
        "outputId": "487fa0e3-ff27-46fa-d687-112bad7ad011",
        "colab": {
          "base_uri": "https://localhost:8080/",
          "height": 34
        }
      },
      "source": [
        "from xgboost import XGBClassifier\n",
        "xgb = XGBClassifier(n_esttimators=500, max_depth=4, scale_pos_weight=10)\n",
        "xgb.fit(X_train, y_train)\n",
        "print(roc(y_test,xgb.predict_proba(X_test)[:,1]))"
      ],
      "execution_count": 24,
      "outputs": [
        {
          "output_type": "stream",
          "text": [
            "0.6507137565949297\n"
          ],
          "name": "stdout"
        }
      ]
    },
    {
      "cell_type": "code",
      "metadata": {
        "id": "DAqb6Fs_7aRj",
        "colab_type": "code",
        "outputId": "d62831c2-eee2-42af-c864-183653920607",
        "colab": {
          "base_uri": "https://localhost:8080/",
          "height": 34
        }
      },
      "source": [
        "from lightgbm import LGBMClassifier\n",
        "lgb = LGBMClassifier(n_estimators=200, max_features=50, class_weight={0:1,1:10})\n",
        "lgb.fit(X_train, y_train)\n",
        "print(roc(y_test,lgb.predict_proba(X_test)[:,1]))"
      ],
      "execution_count": 25,
      "outputs": [
        {
          "output_type": "stream",
          "text": [
            "0.6319231801875532\n"
          ],
          "name": "stdout"
        }
      ]
    },
    {
      "cell_type": "code",
      "metadata": {
        "id": "iSH1H7_b7aO3",
        "colab_type": "code",
        "outputId": "a27afdc8-512d-433e-df09-4a942cd5b624",
        "colab": {
          "base_uri": "https://localhost:8080/",
          "height": 289
        }
      },
      "source": [
        "lgb.feature_importances_"
      ],
      "execution_count": 26,
      "outputs": [
        {
          "output_type": "execute_result",
          "data": {
            "text/plain": [
              "array([  15,    3,   51,   15,   20,   15,   38,   88,   19,   29,    3,\n",
              "          8,    7,   22,    0,   29,   17,   10,    9,    0,   21,   10,\n",
              "          0,    7,   24,    7,    8,    0,   24,    1,    8,    0,   14,\n",
              "          0,    8,    3,    2,   16,   18,   22,    0,    3,   15,    1,\n",
              "          0,    0,    4,    0,   12,   17,    0,    4,    9,    8,   11,\n",
              "          2,   13,    2,    6,   11,   13,    0,    0,   16,   15,    0,\n",
              "          0,    8,    0,   31,    4,    8,    0,    0,    0,    0,    6,\n",
              "          0,   11,    0,    0,   13,    0,    0,    0,    0,    8,   12,\n",
              "          0,    0,    0,    0,    0,    0,    0,    0,   26,    0,    0,\n",
              "          0,    0,    0,    6,    0,    0,    0,    0,    0,    0,   13,\n",
              "          0,    0,    0,    0,    0,    0,    0,    0,    0,    0,    0,\n",
              "          0,    0,  564,  121,   95,   27,   16,   96,    7,   80,   54,\n",
              "         33,   12,  122,   87,   46,   23,   22,   18,   65,   24,   15,\n",
              "         43,    8,    8,   10,  832,   53,   33,   95,   59,   23,   54,\n",
              "         30,   22,   43,  135,   45,   37,   75,   17,   12,    9,  139,\n",
              "         73,   19,   78,   57,   21,   22, 1522])"
            ]
          },
          "metadata": {
            "tags": []
          },
          "execution_count": 26
        }
      ]
    },
    {
      "cell_type": "code",
      "metadata": {
        "id": "ICQ4BFJJA8Ey",
        "colab_type": "code",
        "outputId": "dc214dc6-7d72-4394-d66f-9e76d43527cb",
        "colab": {
          "base_uri": "https://localhost:8080/",
          "height": 34
        }
      },
      "source": [
        "from sklearn.linear_model import LogisticRegression as LR\n",
        "lr = LR(max_iter=500, class_weight={0:1,1:10})\n",
        "lr.fit(X_train, y_train)\n",
        "print(roc(y_test,lr.predict_proba(X_test)[:,1]))"
      ],
      "execution_count": 27,
      "outputs": [
        {
          "output_type": "stream",
          "text": [
            "0.6390623635322622\n"
          ],
          "name": "stdout"
        }
      ]
    },
    {
      "cell_type": "code",
      "metadata": {
        "id": "v8sWQqieKf6K",
        "colab_type": "code",
        "outputId": "7e144e63-e442-4e96-d502-825fcb9feead",
        "colab": {
          "base_uri": "https://localhost:8080/",
          "height": 1000
        }
      },
      "source": [
        "from sklearn.model_selection import StratifiedKFold\n",
        "from sklearn.metrics import roc_curve\n",
        "kfold = StratifiedKFold(n_splits=5, shuffle=True, random_state=0)\n",
        "cnt = 0\n",
        "for train_index, test_index in kfold.split(train_df, Y):\n",
        "  X_train, X_test = train_df.loc[train_index], train_df.loc[test_index]\n",
        "  y_train, y_test = Y[train_index], Y[test_index] ;cnt+=1\n",
        "\n",
        "  print('Fold '+str(cnt)+' : ')\n",
        "\n",
        "  lr = LR(max_iter=500)\n",
        "  lr.fit(X_train, y_train)\n",
        "  print(' LR : ',end='')\n",
        "  print(roc(y_test,lr.predict_proba(X_test)[:,1]))\n",
        "\n",
        "  lgb = LGBMClassifier(n_estimators=80)\n",
        "  lgb.fit(X_train, y_train, eval_metric='AUC',eval_set=(X_train,y_train), early_stopping_rounds=50, verbose=False)\n",
        "  print('LGM : ',end='')\n",
        "  print(roc(y_test,lgb.predict_proba(X_test)[:,1]))\n",
        "\n",
        "  cat = CatBoostClassifier(iterations=1500, logging_level='Silent')\n",
        "  cat.fit(X_train, y_train, eval_set=(X_test,y_test), use_best_model=True)\n",
        "  print('Cat : ',end='')\n",
        "  print(roc(y_test,cat.predict_proba(X_test)[:,1]))\n",
        "\n",
        "  xgb = XGBClassifier(n_estimators=80)\n",
        "  xgb.fit(X_train, y_train, eval_metric='auc',eval_set=[(X_train,y_train)], early_stopping_rounds=50, verbose=False)\n",
        "  print('XGB : ',end='')\n",
        "  print(roc(y_test,xgb.predict_proba(X_test)[:,1]))\n",
        "\n",
        "  t_fpr, t_tpr, _ = roc_curve(y_test, [0 for _ in y_test])\n",
        "  plt.plot(t_fpr, t_tpr, label='Base')\n",
        "\n",
        "  xgb_fpr, xgb_tpr, _ = roc_curve(y_test, xgb.predict_proba(X_test)[:,1])\n",
        "  plt.plot(xgb_fpr, xgb_tpr, linestyle='--', label='XGB')\n",
        "\n",
        "  lgb_fpr, lgb_tpr, _ = roc_curve(y_test, lgb.predict_proba(X_test)[:,1])\n",
        "  plt.plot(lgb_fpr, lgb_tpr, linestyle='--', label='LGB')\n",
        "\n",
        "  cat_fpr, cat_tpr, _ = roc_curve(y_test, cat.predict_proba(X_test)[:,1])\n",
        "  plt.plot(cat_fpr, cat_tpr, linestyle='--', label='CAT')\n",
        "  \n",
        "  lr_fpr, lr_tpr, _ = roc_curve(y_test, lr.predict_proba(X_test)[:,1])\n",
        "  plt.plot(lr_fpr, lr_tpr, linestyle='--', label=' LR')\n",
        "\n",
        "  plt.xlabel('False Positive Rate')\n",
        "  plt.ylabel('True Positive Rate')\n",
        "  plt.legend()\n",
        "  plt.show()\n"
      ],
      "execution_count": 28,
      "outputs": [
        {
          "output_type": "stream",
          "text": [
            "Fold 1 : \n",
            " LR : 0.6354102846939402\n",
            "LGM : 0.643807478189423\n",
            "Cat : 0.64435221696389\n",
            "XGB : 0.6483151592002303\n"
          ],
          "name": "stdout"
        },
        {
          "output_type": "display_data",
          "data": {
            "image/png": "[encoded data removed]",
            "text/plain": [
              "<Figure size 432x288 with 1 Axes>"
            ]
          },
          "metadata": {
            "tags": [],
            "needs_background": "light"
          }
        },
        {
          "output_type": "stream",
          "text": [
            "Fold 2 : \n",
            " LR : 0.6448309660055833\n",
            "LGM : 0.6601612866703974\n",
            "Cat : 0.6671105877938404\n",
            "XGB : 0.6659441222233364\n"
          ],
          "name": "stdout"
        },
        {
          "output_type": "display_data",
          "data": {
            "image/png": "[encoded data removed]",
            "text/plain": [
              "<Figure size 432x288 with 1 Axes>"
            ]
          },
          "metadata": {
            "tags": [],
            "needs_background": "light"
          }
        },
        {
          "output_type": "stream",
          "text": [
            "Fold 3 : \n",
            " LR : 0.6605313467404631\n",
            "LGM : 0.6510336774072505\n",
            "Cat : 0.6834679545447193\n",
            "XGB : 0.6865539449891473\n"
          ],
          "name": "stdout"
        },
        {
          "output_type": "display_data",
          "data": {
            "image/png": "[encoded data removed]",
            "text/plain": [
              "<Figure size 432x288 with 1 Axes>"
            ]
          },
          "metadata": {
            "tags": [],
            "needs_background": "light"
          }
        },
        {
          "output_type": "stream",
          "text": [
            "Fold 4 : \n",
            " LR : 0.6620963385402683\n",
            "LGM : 0.6591355345006616\n",
            "Cat : 0.6767767897288922\n",
            "XGB : 0.6726229948340391\n"
          ],
          "name": "stdout"
        },
        {
          "output_type": "display_data",
          "data": {
            "image/png": "[encoded data removed]",
            "text/plain": [
              "<Figure size 432x288 with 1 Axes>"
            ]
          },
          "metadata": {
            "tags": [],
            "needs_background": "light"
          }
        },
        {
          "output_type": "stream",
          "text": [
            "Fold 5 : \n",
            " LR : 0.6191268500721585\n",
            "LGM : 0.6404385164476025\n",
            "Cat : 0.6510548728004609\n",
            "XGB : 0.6425489092097514\n"
          ],
          "name": "stdout"
        },
        {
          "output_type": "display_data",
          "data": {
            "image/png": "[encoded data removed]",
            "text/plain": [
              "<Figure size 432x288 with 1 Axes>"
            ]
          },
          "metadata": {
            "tags": [],
            "needs_background": "light"
          }
        }
      ]
    },
    {
      "cell_type": "code",
      "metadata": {
        "id": "uU_xw86wMhbP",
        "colab_type": "code",
        "colab": {
          "base_uri": "https://localhost:8080/",
          "height": 1000
        },
        "outputId": "2e211a85-a667-484d-ae3b-3e2bc0d024b6"
      },
      "source": [
        "import h2o\n",
        "h2o.init()\n",
        "\n",
        "from h2o.estimators.gbm import H2OGradientBoostingEstimator\n",
        "\n",
        "new_df = train_df.copy()\n",
        "new_df['target'] = Y\n",
        "\n",
        "data_train_h2o=h2o.H2OFrame(new_df)\n",
        "data_test_h2o=h2o.H2OFrame(test_df)\n",
        "data_train_h2o['target']=data_train_h2o['target'].asfactor()\n",
        "\n",
        "model = H2OGradientBoostingEstimator(## more trees is better if the learning rate is small enough \n",
        "  ## here, use \"more than enough\" trees - we have early stopping\n",
        "  ntrees = 1000,                                                            \n",
        "  ## smaller learning rate is better (this is a good value for most datasets, but see below for annealing)\n",
        "  learn_rate = 0.01,                                                         \n",
        "  ## early stopping once the validation AUC doesn't improve by at least 0.01% for 5 consecutive scoring events\n",
        "  stopping_rounds = 50, stopping_tolerance = 1e-4, stopping_metric = \"AUC\", \n",
        "  ## sample 80% of rows per tree\n",
        "  sample_rate = 0.8,                                                       \n",
        "  ## sample 80% of columns per split\n",
        "  col_sample_rate = 0.8,                                                   \n",
        "  ## fix a random number generator seed for reproducibility\n",
        "  seed = 0,\n",
        "  ## score every 10 trees to make early stopping reproducible (it depends on the scoring interval)\n",
        "  score_tree_interval = 10, nfolds=5, max_depth=3)\n",
        "\n",
        "model.train(x=data_train_h2o.names[:-1],y=data_train_h2o.names[-1], training_frame=data_train_h2o, model_id=\"GBM_Titanic\",validation_frame=data_train_h2o)\n",
        "print(model.cross_validation_metrics_summary())\n",
        "f=model.predict(test_data=data_test_h2o)\n",
        "f=f.as_data_frame()\n",
        "f.head()"
      ],
      "execution_count": 29,
      "outputs": [
        {
          "output_type": "stream",
          "text": [
            "Checking whether there is an H2O instance running at http://localhost:54321 ..... not found.\n",
            "Attempting to start a local H2O server...\n",
            "  Java Version: openjdk version \"11.0.7\" 2020-04-14; OpenJDK Runtime Environment (build 11.0.7+10-post-Ubuntu-2ubuntu218.04); OpenJDK 64-Bit Server VM (build 11.0.7+10-post-Ubuntu-2ubuntu218.04, mixed mode, sharing)\n",
            "  Starting server from /usr/local/lib/python3.6/dist-packages/h2o/backend/bin/h2o.jar\n",
            "  Ice root: /tmp/tmpoqml115_\n",
            "  JVM stdout: /tmp/tmpoqml115_/h2o_unknownUser_started_from_python.out\n",
            "  JVM stderr: /tmp/tmpoqml115_/h2o_unknownUser_started_from_python.err\n",
            "  Server is running at http://127.0.0.1:54321\n",
            "Connecting to H2O server at http://127.0.0.1:54321 ... successful.\n"
          ],
          "name": "stdout"
        },
        {
          "output_type": "display_data",
          "data": {
            "text/html": [
              "<div style=\"overflow:auto\"><table style=\"width:50%\"><tr><td>H2O_cluster_uptime:</td>\n",
              "<td>02 secs</td></tr>\n",
              "<tr><td>H2O_cluster_timezone:</td>\n",
              "<td>Etc/UTC</td></tr>\n",
              "<tr><td>H2O_data_parsing_timezone:</td>\n",
              "<td>UTC</td></tr>\n",
              "<tr><td>H2O_cluster_version:</td>\n",
              "<td>3.30.0.2</td></tr>\n",
              "<tr><td>H2O_cluster_version_age:</td>\n",
              "<td>10 days </td></tr>\n",
              "<tr><td>H2O_cluster_name:</td>\n",
              "<td>H2O_from_python_unknownUser_dl91nx</td></tr>\n",
              "<tr><td>H2O_cluster_total_nodes:</td>\n",
              "<td>1</td></tr>\n",
              "<tr><td>H2O_cluster_free_memory:</td>\n",
              "<td>3.180 Gb</td></tr>\n",
              "<tr><td>H2O_cluster_total_cores:</td>\n",
              "<td>2</td></tr>\n",
              "<tr><td>H2O_cluster_allowed_cores:</td>\n",
              "<td>2</td></tr>\n",
              "<tr><td>H2O_cluster_status:</td>\n",
              "<td>accepting new members, healthy</td></tr>\n",
              "<tr><td>H2O_connection_url:</td>\n",
              "<td>http://127.0.0.1:54321</td></tr>\n",
              "<tr><td>H2O_connection_proxy:</td>\n",
              "<td>{\"http\": null, \"https\": null}</td></tr>\n",
              "<tr><td>H2O_internal_security:</td>\n",
              "<td>False</td></tr>\n",
              "<tr><td>H2O_API_Extensions:</td>\n",
              "<td>Amazon S3, XGBoost, Algos, AutoML, Core V3, TargetEncoder, Core V4</td></tr>\n",
              "<tr><td>Python_version:</td>\n",
              "<td>3.6.9 final</td></tr></table></div>"
            ],
            "text/plain": [
              "--------------------------  ------------------------------------------------------------------\n",
              "H2O_cluster_uptime:         02 secs\n",
              "H2O_cluster_timezone:       Etc/UTC\n",
              "H2O_data_parsing_timezone:  UTC\n",
              "H2O_cluster_version:        3.30.0.2\n",
              "H2O_cluster_version_age:    10 days\n",
              "H2O_cluster_name:           H2O_from_python_unknownUser_dl91nx\n",
              "H2O_cluster_total_nodes:    1\n",
              "H2O_cluster_free_memory:    3.180 Gb\n",
              "H2O_cluster_total_cores:    2\n",
              "H2O_cluster_allowed_cores:  2\n",
              "H2O_cluster_status:         accepting new members, healthy\n",
              "H2O_connection_url:         http://127.0.0.1:54321\n",
              "H2O_connection_proxy:       {\"http\": null, \"https\": null}\n",
              "H2O_internal_security:      False\n",
              "H2O_API_Extensions:         Amazon S3, XGBoost, Algos, AutoML, Core V3, TargetEncoder, Core V4\n",
              "Python_version:             3.6.9 final\n",
              "--------------------------  ------------------------------------------------------------------"
            ]
          },
          "metadata": {
            "tags": []
          }
        },
        {
          "output_type": "stream",
          "text": [
            "Parse progress: |█████████████████████████████████████████████████████████| 100%\n",
            "Parse progress: |█████████████████████████████████████████████████████████| 100%\n",
            "gbm Model Build progress: |███████████████████████████████████████████████| 100%\n",
            "\n",
            "Cross-Validation Metrics Summary: \n"
          ],
          "name": "stdout"
        },
        {
          "output_type": "display_data",
          "data": {
            "text/html": [
              "<div>\n",
              "<style scoped>\n",
              "    .dataframe tbody tr th:only-of-type {\n",
              "        vertical-align: middle;\n",
              "    }\n",
              "\n",
              "    .dataframe tbody tr th {\n",
              "        vertical-align: top;\n",
              "    }\n",
              "\n",
              "    .dataframe thead th {\n",
              "        text-align: right;\n",
              "    }\n",
              "</style>\n",
              "<table border=\"1\" class=\"dataframe\">\n",
              "  <thead>\n",
              "    <tr style=\"text-align: right;\">\n",
              "      <th></th>\n",
              "      <th></th>\n",
              "      <th>mean</th>\n",
              "      <th>sd</th>\n",
              "      <th>cv_1_valid</th>\n",
              "      <th>cv_2_valid</th>\n",
              "      <th>cv_3_valid</th>\n",
              "      <th>cv_4_valid</th>\n",
              "      <th>cv_5_valid</th>\n",
              "    </tr>\n",
              "  </thead>\n",
              "  <tbody>\n",
              "    <tr>\n",
              "      <th>0</th>\n",
              "      <td>accuracy</td>\n",
              "      <td>0.71008086</td>\n",
              "      <td>0.020304246</td>\n",
              "      <td>0.6905866</td>\n",
              "      <td>0.7284822</td>\n",
              "      <td>0.73117125</td>\n",
              "      <td>0.688131</td>\n",
              "      <td>0.7120332</td>\n",
              "    </tr>\n",
              "    <tr>\n",
              "      <th>1</th>\n",
              "      <td>auc</td>\n",
              "      <td>0.66301733</td>\n",
              "      <td>0.025109615</td>\n",
              "      <td>0.6370457</td>\n",
              "      <td>0.68949306</td>\n",
              "      <td>0.65814215</td>\n",
              "      <td>0.6416109</td>\n",
              "      <td>0.68879485</td>\n",
              "    </tr>\n",
              "    <tr>\n",
              "      <th>2</th>\n",
              "      <td>aucpr</td>\n",
              "      <td>0.24033508</td>\n",
              "      <td>0.016867252</td>\n",
              "      <td>0.21699804</td>\n",
              "      <td>0.25462538</td>\n",
              "      <td>0.23627514</td>\n",
              "      <td>0.23491322</td>\n",
              "      <td>0.25886363</td>\n",
              "    </tr>\n",
              "    <tr>\n",
              "      <th>3</th>\n",
              "      <td>err</td>\n",
              "      <td>0.28991914</td>\n",
              "      <td>0.020304246</td>\n",
              "      <td>0.30941337</td>\n",
              "      <td>0.27151778</td>\n",
              "      <td>0.26882872</td>\n",
              "      <td>0.31186903</td>\n",
              "      <td>0.28796682</td>\n",
              "    </tr>\n",
              "    <tr>\n",
              "      <th>4</th>\n",
              "      <td>err_count</td>\n",
              "      <td>1064.2</td>\n",
              "      <td>69.79756</td>\n",
              "      <td>1134.0</td>\n",
              "      <td>1000.0</td>\n",
              "      <td>1003.0</td>\n",
              "      <td>1143.0</td>\n",
              "      <td>1041.0</td>\n",
              "    </tr>\n",
              "    <tr>\n",
              "      <th>5</th>\n",
              "      <td>f0point5</td>\n",
              "      <td>0.2610326</td>\n",
              "      <td>0.018140024</td>\n",
              "      <td>0.23790564</td>\n",
              "      <td>0.26593408</td>\n",
              "      <td>0.25977013</td>\n",
              "      <td>0.25395584</td>\n",
              "      <td>0.28759736</td>\n",
              "    </tr>\n",
              "    <tr>\n",
              "      <th>6</th>\n",
              "      <td>f1</td>\n",
              "      <td>0.32044554</td>\n",
              "      <td>0.022584163</td>\n",
              "      <td>0.29652604</td>\n",
              "      <td>0.32614556</td>\n",
              "      <td>0.3106529</td>\n",
              "      <td>0.3126879</td>\n",
              "      <td>0.3562152</td>\n",
              "    </tr>\n",
              "    <tr>\n",
              "      <th>7</th>\n",
              "      <td>f2</td>\n",
              "      <td>0.41520053</td>\n",
              "      <td>0.032358732</td>\n",
              "      <td>0.39348042</td>\n",
              "      <td>0.4216028</td>\n",
              "      <td>0.3863248</td>\n",
              "      <td>0.40675846</td>\n",
              "      <td>0.46783626</td>\n",
              "    </tr>\n",
              "    <tr>\n",
              "      <th>8</th>\n",
              "      <td>lift_top_group</td>\n",
              "      <td>2.7276568</td>\n",
              "      <td>0.30253956</td>\n",
              "      <td>2.2938833</td>\n",
              "      <td>3.01638</td>\n",
              "      <td>2.6048872</td>\n",
              "      <td>2.7138097</td>\n",
              "      <td>3.0093236</td>\n",
              "    </tr>\n",
              "    <tr>\n",
              "      <th>9</th>\n",
              "      <td>logloss</td>\n",
              "      <td>0.37030476</td>\n",
              "      <td>0.012826842</td>\n",
              "      <td>0.37166205</td>\n",
              "      <td>0.3527401</td>\n",
              "      <td>0.36981907</td>\n",
              "      <td>0.3888539</td>\n",
              "      <td>0.36844867</td>\n",
              "    </tr>\n",
              "    <tr>\n",
              "      <th>10</th>\n",
              "      <td>max_per_class_error</td>\n",
              "      <td>0.48232523</td>\n",
              "      <td>0.047290318</td>\n",
              "      <td>0.49684212</td>\n",
              "      <td>0.47619048</td>\n",
              "      <td>0.5387755</td>\n",
              "      <td>0.49119374</td>\n",
              "      <td>0.40862423</td>\n",
              "    </tr>\n",
              "    <tr>\n",
              "      <th>11</th>\n",
              "      <td>mcc</td>\n",
              "      <td>0.1910176</td>\n",
              "      <td>0.03151826</td>\n",
              "      <td>0.16093384</td>\n",
              "      <td>0.2083417</td>\n",
              "      <td>0.17988381</td>\n",
              "      <td>0.16862018</td>\n",
              "      <td>0.23730841</td>\n",
              "    </tr>\n",
              "    <tr>\n",
              "      <th>12</th>\n",
              "      <td>mean_per_class_accuracy</td>\n",
              "      <td>0.6284695</td>\n",
              "      <td>0.021844376</td>\n",
              "      <td>0.6108266</td>\n",
              "      <td>0.6408244</td>\n",
              "      <td>0.6166042</td>\n",
              "      <td>0.6129954</td>\n",
              "      <td>0.6610971</td>\n",
              "    </tr>\n",
              "    <tr>\n",
              "      <th>13</th>\n",
              "      <td>mean_per_class_error</td>\n",
              "      <td>0.37153047</td>\n",
              "      <td>0.021844376</td>\n",
              "      <td>0.38917342</td>\n",
              "      <td>0.35917565</td>\n",
              "      <td>0.3833958</td>\n",
              "      <td>0.3870046</td>\n",
              "      <td>0.33890292</td>\n",
              "    </tr>\n",
              "    <tr>\n",
              "      <th>14</th>\n",
              "      <td>mse</td>\n",
              "      <td>0.109481975</td>\n",
              "      <td>0.004414248</td>\n",
              "      <td>0.10924907</td>\n",
              "      <td>0.103411235</td>\n",
              "      <td>0.10920121</td>\n",
              "      <td>0.115878865</td>\n",
              "      <td>0.109669484</td>\n",
              "    </tr>\n",
              "    <tr>\n",
              "      <th>15</th>\n",
              "      <td>pr_auc</td>\n",
              "      <td>0.24033508</td>\n",
              "      <td>0.016867252</td>\n",
              "      <td>0.21699804</td>\n",
              "      <td>0.25462538</td>\n",
              "      <td>0.23627514</td>\n",
              "      <td>0.23491322</td>\n",
              "      <td>0.25886363</td>\n",
              "    </tr>\n",
              "    <tr>\n",
              "      <th>16</th>\n",
              "      <td>precision</td>\n",
              "      <td>0.23235029</td>\n",
              "      <td>0.016316973</td>\n",
              "      <td>0.21020229</td>\n",
              "      <td>0.23679061</td>\n",
              "      <td>0.23419689</td>\n",
              "      <td>0.22569445</td>\n",
              "      <td>0.25486726</td>\n",
              "    </tr>\n",
              "    <tr>\n",
              "      <th>17</th>\n",
              "      <td>r2</td>\n",
              "      <td>0.045027025</td>\n",
              "      <td>0.01280643</td>\n",
              "      <td>0.03154062</td>\n",
              "      <td>0.05737605</td>\n",
              "      <td>0.04279969</td>\n",
              "      <td>0.03423911</td>\n",
              "      <td>0.059179656</td>\n",
              "    </tr>\n",
              "    <tr>\n",
              "      <th>18</th>\n",
              "      <td>recall</td>\n",
              "      <td>0.5176748</td>\n",
              "      <td>0.047290318</td>\n",
              "      <td>0.5031579</td>\n",
              "      <td>0.52380955</td>\n",
              "      <td>0.4612245</td>\n",
              "      <td>0.5088063</td>\n",
              "      <td>0.59137577</td>\n",
              "    </tr>\n",
              "    <tr>\n",
              "      <th>19</th>\n",
              "      <td>rmse</td>\n",
              "      <td>0.33082688</td>\n",
              "      <td>0.006666127</td>\n",
              "      <td>0.33052847</td>\n",
              "      <td>0.32157618</td>\n",
              "      <td>0.33045605</td>\n",
              "      <td>0.34040985</td>\n",
              "      <td>0.33116382</td>\n",
              "    </tr>\n",
              "  </tbody>\n",
              "</table>\n",
              "</div>"
            ],
            "text/plain": [
              "                                    mean  ...   cv_4_valid   cv_5_valid\n",
              "0                  accuracy   0.71008086  ...     0.688131    0.7120332\n",
              "1                       auc   0.66301733  ...    0.6416109   0.68879485\n",
              "2                     aucpr   0.24033508  ...   0.23491322   0.25886363\n",
              "3                       err   0.28991914  ...   0.31186903   0.28796682\n",
              "4                 err_count       1064.2  ...       1143.0       1041.0\n",
              "5                  f0point5    0.2610326  ...   0.25395584   0.28759736\n",
              "6                        f1   0.32044554  ...    0.3126879    0.3562152\n",
              "7                        f2   0.41520053  ...   0.40675846   0.46783626\n",
              "8            lift_top_group    2.7276568  ...    2.7138097    3.0093236\n",
              "9                   logloss   0.37030476  ...    0.3888539   0.36844867\n",
              "10      max_per_class_error   0.48232523  ...   0.49119374   0.40862423\n",
              "11                      mcc    0.1910176  ...   0.16862018   0.23730841\n",
              "12  mean_per_class_accuracy    0.6284695  ...    0.6129954    0.6610971\n",
              "13     mean_per_class_error   0.37153047  ...    0.3870046   0.33890292\n",
              "14                      mse  0.109481975  ...  0.115878865  0.109669484\n",
              "15                   pr_auc   0.24033508  ...   0.23491322   0.25886363\n",
              "16                precision   0.23235029  ...   0.22569445   0.25486726\n",
              "17                       r2  0.045027025  ...   0.03423911  0.059179656\n",
              "18                   recall    0.5176748  ...    0.5088063   0.59137577\n",
              "19                     rmse   0.33082688  ...   0.34040985   0.33116382\n",
              "\n",
              "[20 rows x 8 columns]"
            ]
          },
          "metadata": {
            "tags": []
          }
        },
        {
          "output_type": "stream",
          "text": [
            "\n",
            "See the whole table with table.as_data_frame()\n",
            "\n",
            "gbm prediction progress: |████████████████████████████████████████████████| 100%\n"
          ],
          "name": "stdout"
        },
        {
          "output_type": "execute_result",
          "data": {
            "text/html": [
              "<div>\n",
              "<style scoped>\n",
              "    .dataframe tbody tr th:only-of-type {\n",
              "        vertical-align: middle;\n",
              "    }\n",
              "\n",
              "    .dataframe tbody tr th {\n",
              "        vertical-align: top;\n",
              "    }\n",
              "\n",
              "    .dataframe thead th {\n",
              "        text-align: right;\n",
              "    }\n",
              "</style>\n",
              "<table border=\"1\" class=\"dataframe\">\n",
              "  <thead>\n",
              "    <tr style=\"text-align: right;\">\n",
              "      <th></th>\n",
              "      <th>predict</th>\n",
              "      <th>p0</th>\n",
              "      <th>p1</th>\n",
              "    </tr>\n",
              "  </thead>\n",
              "  <tbody>\n",
              "    <tr>\n",
              "      <th>0</th>\n",
              "      <td>1</td>\n",
              "      <td>0.217680</td>\n",
              "      <td>0.782320</td>\n",
              "    </tr>\n",
              "    <tr>\n",
              "      <th>1</th>\n",
              "      <td>0</td>\n",
              "      <td>0.920790</td>\n",
              "      <td>0.079210</td>\n",
              "    </tr>\n",
              "    <tr>\n",
              "      <th>2</th>\n",
              "      <td>1</td>\n",
              "      <td>0.622055</td>\n",
              "      <td>0.377945</td>\n",
              "    </tr>\n",
              "    <tr>\n",
              "      <th>3</th>\n",
              "      <td>0</td>\n",
              "      <td>0.937106</td>\n",
              "      <td>0.062894</td>\n",
              "    </tr>\n",
              "    <tr>\n",
              "      <th>4</th>\n",
              "      <td>0</td>\n",
              "      <td>0.930335</td>\n",
              "      <td>0.069665</td>\n",
              "    </tr>\n",
              "  </tbody>\n",
              "</table>\n",
              "</div>"
            ],
            "text/plain": [
              "   predict        p0        p1\n",
              "0        1  0.217680  0.782320\n",
              "1        0  0.920790  0.079210\n",
              "2        1  0.622055  0.377945\n",
              "3        0  0.937106  0.062894\n",
              "4        0  0.930335  0.069665"
            ]
          },
          "metadata": {
            "tags": []
          },
          "execution_count": 29
        }
      ]
    },
    {
      "cell_type": "code",
      "metadata": {
        "id": "TzSyR7VdMhWl",
        "colab_type": "code",
        "colab": {}
      },
      "source": [
        "y_h2o = f['p1']"
      ],
      "execution_count": 0,
      "outputs": []
    },
    {
      "cell_type": "code",
      "metadata": {
        "id": "e7NI6WdkUBHD",
        "colab_type": "code",
        "outputId": "42ee4ce4-f5fd-45de-819f-c96b9ecbc95c",
        "colab": {
          "base_uri": "https://localhost:8080/",
          "height": 34
        }
      },
      "source": [
        "lgb = LGBMClassifier()\n",
        "xgb = XGBClassifier()\n",
        "cat = CatBoostClassifier(logging_level='Silent')\n",
        "\n",
        "lgb.fit(train_df,Y)\n",
        "xgb.fit(train_df,Y)\n",
        "cat.fit(train_df,Y)"
      ],
      "execution_count": 31,
      "outputs": [
        {
          "output_type": "execute_result",
          "data": {
            "text/plain": [
              "<catboost.core.CatBoostClassifier at 0x7f216c821550>"
            ]
          },
          "metadata": {
            "tags": []
          },
          "execution_count": 31
        }
      ]
    },
    {
      "cell_type": "code",
      "metadata": {
        "id": "El5X66FNs6WK",
        "colab_type": "code",
        "colab": {
          "base_uri": "https://localhost:8080/",
          "height": 34
        },
        "outputId": "e6eeaac5-8902-435f-a480-e9b96813d30f"
      },
      "source": [
        "cat_pred = cat.predict_proba(test_df)[:,1]\n",
        "xgb_pred = xgb.predict_proba(test_df)[:,1]\n",
        "lgb_pred = lgb.predict_proba(test_df)[:,1]\n",
        "p = 0.3;q=0.18;r=0.3;s=1-p-q-r\n",
        "y_pred = [ (p*i) + (q*j) + (r*k) + (s*l) for i,j,k,l in zip(xgb_pred,lgb_pred,cat_pred,y_h2o)]\n",
        "print(len(y_pred))"
      ],
      "execution_count": 32,
      "outputs": [
        {
          "output_type": "stream",
          "text": [
            "15021\n"
          ],
          "name": "stdout"
        }
      ]
    },
    {
      "cell_type": "code",
      "metadata": {
        "id": "KGGIWB_2tEre",
        "colab_type": "code",
        "colab": {
          "base_uri": "https://localhost:8080/",
          "height": 102
        },
        "outputId": "5434a17b-f44a-4fc9-9392-fdf20b69c554"
      },
      "source": [
        "%cd ..\n",
        "%cd ..\n",
        "%cd ..\n",
        "%cd ..\n",
        "!ls"
      ],
      "execution_count": 33,
      "outputs": [
        {
          "output_type": "stream",
          "text": [
            "/content/drive/My Drive/Datasets\n",
            "/content/drive/My Drive\n",
            "/content/drive\n",
            "/content\n",
            "catboost_info  drive  sample_data\n"
          ],
          "name": "stdout"
        }
      ]
    },
    {
      "cell_type": "code",
      "metadata": {
        "id": "H5aAXkiq0lgw",
        "colab_type": "code",
        "outputId": "fb8fa14b-7dc5-4063-f37b-769baab60fa0",
        "colab": {
          "base_uri": "https://localhost:8080/",
          "height": 204
        }
      },
      "source": [
        "sub = pd.DataFrame({'enrollee_id':ids,'target':y_pred})\n",
        "sub.to_csv('subs.csv', index=False)\n",
        "sub.head()"
      ],
      "execution_count": 34,
      "outputs": [
        {
          "output_type": "execute_result",
          "data": {
            "text/html": [
              "<div>\n",
              "<style scoped>\n",
              "    .dataframe tbody tr th:only-of-type {\n",
              "        vertical-align: middle;\n",
              "    }\n",
              "\n",
              "    .dataframe tbody tr th {\n",
              "        vertical-align: top;\n",
              "    }\n",
              "\n",
              "    .dataframe thead th {\n",
              "        text-align: right;\n",
              "    }\n",
              "</style>\n",
              "<table border=\"1\" class=\"dataframe\">\n",
              "  <thead>\n",
              "    <tr style=\"text-align: right;\">\n",
              "      <th></th>\n",
              "      <th>enrollee_id</th>\n",
              "      <th>target</th>\n",
              "    </tr>\n",
              "  </thead>\n",
              "  <tbody>\n",
              "    <tr>\n",
              "      <th>0</th>\n",
              "      <td>16548</td>\n",
              "      <td>0.720811</td>\n",
              "    </tr>\n",
              "    <tr>\n",
              "      <th>1</th>\n",
              "      <td>12036</td>\n",
              "      <td>0.079449</td>\n",
              "    </tr>\n",
              "    <tr>\n",
              "      <th>2</th>\n",
              "      <td>11061</td>\n",
              "      <td>0.380279</td>\n",
              "    </tr>\n",
              "    <tr>\n",
              "      <th>3</th>\n",
              "      <td>5032</td>\n",
              "      <td>0.053176</td>\n",
              "    </tr>\n",
              "    <tr>\n",
              "      <th>4</th>\n",
              "      <td>17599</td>\n",
              "      <td>0.074295</td>\n",
              "    </tr>\n",
              "  </tbody>\n",
              "</table>\n",
              "</div>"
            ],
            "text/plain": [
              "   enrollee_id    target\n",
              "0        16548  0.720811\n",
              "1        12036  0.079449\n",
              "2        11061  0.380279\n",
              "3         5032  0.053176\n",
              "4        17599  0.074295"
            ]
          },
          "metadata": {
            "tags": []
          },
          "execution_count": 34
        }
      ]
    }
  ]
}