{
  "nbformat": 4,
  "nbformat_minor": 0,
  "metadata": {
    "colab": {
      "name": "Flipr_covid.ipynb",
      "provenance": [],
      "collapsed_sections": []
    },
    "kernelspec": {
      "name": "python3",
      "display_name": "Python 3"
    }
  },
  "cells": [
    {
      "cell_type": "code",
      "metadata": {
        "id": "dnTaKO0g2CeO",
        "colab_type": "code",
        "outputId": "ea95d7ab-f7ca-461a-ea05-14d49d58596e",
        "colab": {
          "base_uri": "https://localhost:8080/",
          "height": 204
        }
      },
      "source": [
        "#installing required libraries\n",
        "!pip install category_encoders"
      ],
      "execution_count": 1,
      "outputs": [
        {
          "output_type": "stream",
          "text": [
            "Requirement already satisfied: category_encoders in /usr/local/lib/python3.6/dist-packages (2.1.0)\n",
            "Requirement already satisfied: scikit-learn>=0.20.0 in /usr/local/lib/python3.6/dist-packages (from category_encoders) (0.22.2.post1)\n",
            "Requirement already satisfied: patsy>=0.4.1 in /usr/local/lib/python3.6/dist-packages (from category_encoders) (0.5.1)\n",
            "Requirement already satisfied: pandas>=0.21.1 in /usr/local/lib/python3.6/dist-packages (from category_encoders) (0.25.3)\n",
            "Requirement already satisfied: statsmodels>=0.6.1 in /usr/local/lib/python3.6/dist-packages (from category_encoders) (0.10.2)\n",
            "Requirement already satisfied: scipy>=0.19.0 in /usr/local/lib/python3.6/dist-packages (from category_encoders) (1.4.1)\n",
            "Requirement already satisfied: numpy>=1.11.3 in /usr/local/lib/python3.6/dist-packages (from category_encoders) (1.18.2)\n",
            "Requirement already satisfied: joblib>=0.11 in /usr/local/lib/python3.6/dist-packages (from scikit-learn>=0.20.0->category_encoders) (0.14.1)\n",
            "Requirement already satisfied: six in /usr/local/lib/python3.6/dist-packages (from patsy>=0.4.1->category_encoders) (1.12.0)\n",
            "Requirement already satisfied: python-dateutil>=2.6.1 in /usr/local/lib/python3.6/dist-packages (from pandas>=0.21.1->category_encoders) (2.8.1)\n",
            "Requirement already satisfied: pytz>=2017.2 in /usr/local/lib/python3.6/dist-packages (from pandas>=0.21.1->category_encoders) (2018.9)\n"
          ],
          "name": "stdout"
        }
      ]
    },
    {
      "cell_type": "code",
      "metadata": {
        "id": "miGNlyemo-Wc",
        "colab_type": "code",
        "colab": {
          "base_uri": "https://localhost:8080/",
          "height": 80
        },
        "outputId": "efbfee8c-1e5f-438f-eb54-2fd4748b04c7"
      },
      "source": [
        "#Importing required libraries and functions\n",
        "\n",
        "#Libraries to load the dataset\n",
        "import pandas as pd\n",
        "import numpy as np\n",
        "\n",
        "#Libraries/Functions for Data Pre-processing\n",
        "import category_encoders as ce\n",
        "from sklearn.preprocessing import StandardScaler, MinMaxScaler, LabelEncoder\n",
        "from sklearn.model_selection import train_test_split\n",
        "from sklearn.metrics import mean_squared_error as mse\n",
        "\n",
        "#Functions for building ML/DL models\n",
        "from sklearn.linear_model import LinearRegression\n",
        "from sklearn.preprocessing import PolynomialFeatures\n",
        "from sklearn.neighbors import KNeighborsRegressor as knn\n",
        "from sklearn.ensemble import RandomForestRegressor\n",
        "from xgboost import XGBRegressor\n",
        "from keras.layers import Dense, Dropout, LeakyReLU, ReLU\n",
        "from keras.models import Sequential\n",
        "\n",
        "#Functions for Data-visualisatoin\n",
        "import matplotlib.pyplot as plt\n",
        "from matplotlib.pyplot import figure\n",
        "\n",
        "import warnings\n",
        "warnings.filterwarnings('ignore')"
      ],
      "execution_count": 2,
      "outputs": [
        {
          "output_type": "stream",
          "text": [
            "Using TensorFlow backend.\n"
          ],
          "name": "stderr"
        },
        {
          "output_type": "display_data",
          "data": {
            "text/html": [
              "<p style=\"color: red;\">\n",
              "The default version of TensorFlow in Colab will soon switch to TensorFlow 2.x.<br>\n",
              "We recommend you <a href=\"https://www.tensorflow.org/guide/migrate\" target=\"_blank\">upgrade</a> now \n",
              "or ensure your notebook will continue to use TensorFlow 1.x via the <code>%tensorflow_version 1.x</code> magic:\n",
              "<a href=\"https://colab.research.google.com/notebooks/tensorflow_version.ipynb\" target=\"_blank\">more info</a>.</p>\n"
            ],
            "text/plain": [
              "<IPython.core.display.HTML object>"
            ]
          },
          "metadata": {
            "tags": []
          }
        }
      ]
    },
    {
      "cell_type": "code",
      "metadata": {
        "id": "mtMVGF09pHSC",
        "colab_type": "code",
        "outputId": "e217e561-406c-4465-e5f7-f05de712c51f",
        "colab": {
          "base_uri": "https://localhost:8080/",
          "height": 51
        }
      },
      "source": [
        "from google.colab import drive\n",
        "drive.mount('/content/drive')\n",
        "%cd drive/My\\ Drive/Datasets/COVID_19"
      ],
      "execution_count": 3,
      "outputs": [
        {
          "output_type": "stream",
          "text": [
            "Drive already mounted at /content/drive; to attempt to forcibly remount, call drive.mount(\"/content/drive\", force_remount=True).\n",
            "/content/drive/My Drive/Datasets/COVID_19\n"
          ],
          "name": "stdout"
        }
      ]
    },
    {
      "cell_type": "markdown",
      "metadata": {
        "id": "ZizHX9E4wM6Q",
        "colab_type": "text"
      },
      "source": [
        "**Part - 1**"
      ]
    },
    {
      "cell_type": "code",
      "metadata": {
        "id": "GeH2bO2SqHzK",
        "colab_type": "code",
        "colab": {}
      },
      "source": [
        "#Loading the dataset\n",
        "train = pd.read_excel('Train_dataset.xlsx')\n",
        "test = pd.read_excel('Test_dataset.xlsx')"
      ],
      "execution_count": 0,
      "outputs": []
    },
    {
      "cell_type": "code",
      "metadata": {
        "id": "Mj8waQjUA6By",
        "colab_type": "code",
        "outputId": "e636517a-63a3-40a6-b2b6-32e38f0cbafe",
        "colab": {
          "base_uri": "https://localhost:8080/",
          "height": 309
        }
      },
      "source": [
        "train.head()"
      ],
      "execution_count": 5,
      "outputs": [
        {
          "output_type": "execute_result",
          "data": {
            "text/html": [
              "<div>\n",
              "<style scoped>\n",
              "    .dataframe tbody tr th:only-of-type {\n",
              "        vertical-align: middle;\n",
              "    }\n",
              "\n",
              "    .dataframe tbody tr th {\n",
              "        vertical-align: top;\n",
              "    }\n",
              "\n",
              "    .dataframe thead th {\n",
              "        text-align: right;\n",
              "    }\n",
              "</style>\n",
              "<table border=\"1\" class=\"dataframe\">\n",
              "  <thead>\n",
              "    <tr style=\"text-align: right;\">\n",
              "      <th></th>\n",
              "      <th>people_ID</th>\n",
              "      <th>Region</th>\n",
              "      <th>Gender</th>\n",
              "      <th>Designation</th>\n",
              "      <th>Name</th>\n",
              "      <th>Married</th>\n",
              "      <th>Children</th>\n",
              "      <th>Occupation</th>\n",
              "      <th>Mode_transport</th>\n",
              "      <th>cases/1M</th>\n",
              "      <th>Deaths/1M</th>\n",
              "      <th>comorbidity</th>\n",
              "      <th>Age</th>\n",
              "      <th>Coma score</th>\n",
              "      <th>Pulmonary score</th>\n",
              "      <th>cardiological pressure</th>\n",
              "      <th>Diuresis</th>\n",
              "      <th>Platelets</th>\n",
              "      <th>HBB</th>\n",
              "      <th>d-dimer</th>\n",
              "      <th>Heart rate</th>\n",
              "      <th>HDL cholesterol</th>\n",
              "      <th>Charlson Index</th>\n",
              "      <th>Blood Glucose</th>\n",
              "      <th>Insurance</th>\n",
              "      <th>salary</th>\n",
              "      <th>FT/month</th>\n",
              "      <th>Infect_Prob</th>\n",
              "    </tr>\n",
              "  </thead>\n",
              "  <tbody>\n",
              "    <tr>\n",
              "      <th>0</th>\n",
              "      <td>1</td>\n",
              "      <td>Bhubaneshwar</td>\n",
              "      <td>Female</td>\n",
              "      <td>Mrs</td>\n",
              "      <td>mansi</td>\n",
              "      <td>YES</td>\n",
              "      <td>1.0</td>\n",
              "      <td>Farmer</td>\n",
              "      <td>Public</td>\n",
              "      <td>2</td>\n",
              "      <td>0</td>\n",
              "      <td>Hypertension</td>\n",
              "      <td>68</td>\n",
              "      <td>8</td>\n",
              "      <td>&lt;400</td>\n",
              "      <td>Normal</td>\n",
              "      <td>441.0</td>\n",
              "      <td>154.0</td>\n",
              "      <td>93.0</td>\n",
              "      <td>233.0</td>\n",
              "      <td>82.0</td>\n",
              "      <td>58.0</td>\n",
              "      <td>27</td>\n",
              "      <td>7</td>\n",
              "      <td>3600000.0</td>\n",
              "      <td>1300000</td>\n",
              "      <td>2.0</td>\n",
              "      <td>49.135010</td>\n",
              "    </tr>\n",
              "    <tr>\n",
              "      <th>1</th>\n",
              "      <td>2</td>\n",
              "      <td>Bhubaneshwar</td>\n",
              "      <td>Female</td>\n",
              "      <td>Mrs</td>\n",
              "      <td>riya masi</td>\n",
              "      <td>YES</td>\n",
              "      <td>2.0</td>\n",
              "      <td>Farmer</td>\n",
              "      <td>Walk</td>\n",
              "      <td>2</td>\n",
              "      <td>0</td>\n",
              "      <td>Diabetes</td>\n",
              "      <td>64</td>\n",
              "      <td>15</td>\n",
              "      <td>&lt;100</td>\n",
              "      <td>Stage-02</td>\n",
              "      <td>NaN</td>\n",
              "      <td>121.0</td>\n",
              "      <td>56.0</td>\n",
              "      <td>328.0</td>\n",
              "      <td>89.0</td>\n",
              "      <td>68.0</td>\n",
              "      <td>5</td>\n",
              "      <td>6</td>\n",
              "      <td>1600000.0</td>\n",
              "      <td>400000</td>\n",
              "      <td>1.0</td>\n",
              "      <td>51.147880</td>\n",
              "    </tr>\n",
              "    <tr>\n",
              "      <th>2</th>\n",
              "      <td>3</td>\n",
              "      <td>Bhubaneshwar</td>\n",
              "      <td>Female</td>\n",
              "      <td>Mrs</td>\n",
              "      <td>sunita</td>\n",
              "      <td>NO</td>\n",
              "      <td>1.0</td>\n",
              "      <td>Cleaner</td>\n",
              "      <td>Public</td>\n",
              "      <td>2</td>\n",
              "      <td>0</td>\n",
              "      <td>None</td>\n",
              "      <td>19</td>\n",
              "      <td>13</td>\n",
              "      <td>&lt;300</td>\n",
              "      <td>Elevated</td>\n",
              "      <td>416.0</td>\n",
              "      <td>124.0</td>\n",
              "      <td>137.0</td>\n",
              "      <td>213.0</td>\n",
              "      <td>77.0</td>\n",
              "      <td>43.0</td>\n",
              "      <td>40</td>\n",
              "      <td>6</td>\n",
              "      <td>3400000.0</td>\n",
              "      <td>900000</td>\n",
              "      <td>1.0</td>\n",
              "      <td>73.224000</td>\n",
              "    </tr>\n",
              "    <tr>\n",
              "      <th>3</th>\n",
              "      <td>4</td>\n",
              "      <td>Bhubaneshwar</td>\n",
              "      <td>Female</td>\n",
              "      <td>Mrs</td>\n",
              "      <td>anjali @ babli</td>\n",
              "      <td>YES</td>\n",
              "      <td>1.0</td>\n",
              "      <td>Driver</td>\n",
              "      <td>Car</td>\n",
              "      <td>2</td>\n",
              "      <td>0</td>\n",
              "      <td>Coronary Heart Disease</td>\n",
              "      <td>33</td>\n",
              "      <td>9</td>\n",
              "      <td>&lt;200</td>\n",
              "      <td>Stage-01</td>\n",
              "      <td>410.0</td>\n",
              "      <td>98.0</td>\n",
              "      <td>167.0</td>\n",
              "      <td>275.0</td>\n",
              "      <td>64.0</td>\n",
              "      <td>60.0</td>\n",
              "      <td>27</td>\n",
              "      <td>7</td>\n",
              "      <td>700000.0</td>\n",
              "      <td>2300000</td>\n",
              "      <td>1.0</td>\n",
              "      <td>48.779225</td>\n",
              "    </tr>\n",
              "    <tr>\n",
              "      <th>4</th>\n",
              "      <td>5</td>\n",
              "      <td>Bhubaneshwar</td>\n",
              "      <td>Female</td>\n",
              "      <td>Mrs</td>\n",
              "      <td>champa karketta</td>\n",
              "      <td>NO</td>\n",
              "      <td>2.0</td>\n",
              "      <td>Manufacturing</td>\n",
              "      <td>Car</td>\n",
              "      <td>2</td>\n",
              "      <td>0</td>\n",
              "      <td>Diabetes</td>\n",
              "      <td>23</td>\n",
              "      <td>7</td>\n",
              "      <td>&lt;400</td>\n",
              "      <td>Normal</td>\n",
              "      <td>390.0</td>\n",
              "      <td>21.0</td>\n",
              "      <td>153.0</td>\n",
              "      <td>331.0</td>\n",
              "      <td>71.0</td>\n",
              "      <td>64.0</td>\n",
              "      <td>32</td>\n",
              "      <td>7</td>\n",
              "      <td>3200000.0</td>\n",
              "      <td>1100000</td>\n",
              "      <td>1.0</td>\n",
              "      <td>87.868800</td>\n",
              "    </tr>\n",
              "  </tbody>\n",
              "</table>\n",
              "</div>"
            ],
            "text/plain": [
              "   people_ID        Region  Gender  ...   salary FT/month Infect_Prob\n",
              "0          1  Bhubaneshwar  Female  ...  1300000      2.0   49.135010\n",
              "1          2  Bhubaneshwar  Female  ...   400000      1.0   51.147880\n",
              "2          3  Bhubaneshwar  Female  ...   900000      1.0   73.224000\n",
              "3          4  Bhubaneshwar  Female  ...  2300000      1.0   48.779225\n",
              "4          5  Bhubaneshwar  Female  ...  1100000      1.0   87.868800\n",
              "\n",
              "[5 rows x 28 columns]"
            ]
          },
          "metadata": {
            "tags": []
          },
          "execution_count": 5
        }
      ]
    },
    {
      "cell_type": "code",
      "metadata": {
        "id": "17Tx0Q3tqc1-",
        "colab_type": "code",
        "outputId": "7020444b-df8b-4cd0-80bd-5435fbf9b187",
        "colab": {
          "base_uri": "https://localhost:8080/",
          "height": 334
        }
      },
      "source": [
        "train.describe()"
      ],
      "execution_count": 6,
      "outputs": [
        {
          "output_type": "execute_result",
          "data": {
            "text/html": [
              "<div>\n",
              "<style scoped>\n",
              "    .dataframe tbody tr th:only-of-type {\n",
              "        vertical-align: middle;\n",
              "    }\n",
              "\n",
              "    .dataframe tbody tr th {\n",
              "        vertical-align: top;\n",
              "    }\n",
              "\n",
              "    .dataframe thead th {\n",
              "        text-align: right;\n",
              "    }\n",
              "</style>\n",
              "<table border=\"1\" class=\"dataframe\">\n",
              "  <thead>\n",
              "    <tr style=\"text-align: right;\">\n",
              "      <th></th>\n",
              "      <th>people_ID</th>\n",
              "      <th>Children</th>\n",
              "      <th>cases/1M</th>\n",
              "      <th>Deaths/1M</th>\n",
              "      <th>Age</th>\n",
              "      <th>Coma score</th>\n",
              "      <th>Diuresis</th>\n",
              "      <th>Platelets</th>\n",
              "      <th>HBB</th>\n",
              "      <th>d-dimer</th>\n",
              "      <th>Heart rate</th>\n",
              "      <th>HDL cholesterol</th>\n",
              "      <th>Charlson Index</th>\n",
              "      <th>Blood Glucose</th>\n",
              "      <th>Insurance</th>\n",
              "      <th>salary</th>\n",
              "      <th>FT/month</th>\n",
              "      <th>Infect_Prob</th>\n",
              "    </tr>\n",
              "  </thead>\n",
              "  <tbody>\n",
              "    <tr>\n",
              "      <th>count</th>\n",
              "      <td>10714.000000</td>\n",
              "      <td>10403.000000</td>\n",
              "      <td>10714.000000</td>\n",
              "      <td>10714.000000</td>\n",
              "      <td>10714.000000</td>\n",
              "      <td>10714.000000</td>\n",
              "      <td>9998.000000</td>\n",
              "      <td>9790.000000</td>\n",
              "      <td>10698.000000</td>\n",
              "      <td>9600.000000</td>\n",
              "      <td>9600.000000</td>\n",
              "      <td>10679.000000</td>\n",
              "      <td>10714.000000</td>\n",
              "      <td>10714.000000</td>\n",
              "      <td>9.624000e+03</td>\n",
              "      <td>1.071400e+04</td>\n",
              "      <td>9991.000000</td>\n",
              "      <td>10714.000000</td>\n",
              "    </tr>\n",
              "    <tr>\n",
              "      <th>mean</th>\n",
              "      <td>10084.893784</td>\n",
              "      <td>1.062770</td>\n",
              "      <td>3.285888</td>\n",
              "      <td>0.523241</td>\n",
              "      <td>42.083722</td>\n",
              "      <td>9.013067</td>\n",
              "      <td>278.806261</td>\n",
              "      <td>87.795812</td>\n",
              "      <td>116.170967</td>\n",
              "      <td>275.292292</td>\n",
              "      <td>74.847396</td>\n",
              "      <td>52.632737</td>\n",
              "      <td>20.028094</td>\n",
              "      <td>5.015027</td>\n",
              "      <td>2.644919e+06</td>\n",
              "      <td>1.304713e+06</td>\n",
              "      <td>1.004604</td>\n",
              "      <td>52.280680</td>\n",
              "    </tr>\n",
              "    <tr>\n",
              "      <th>std</th>\n",
              "      <td>7108.663645</td>\n",
              "      <td>0.818222</td>\n",
              "      <td>2.721274</td>\n",
              "      <td>0.854303</td>\n",
              "      <td>15.323397</td>\n",
              "      <td>3.714970</td>\n",
              "      <td>97.985526</td>\n",
              "      <td>41.851103</td>\n",
              "      <td>55.178811</td>\n",
              "      <td>43.669692</td>\n",
              "      <td>14.869104</td>\n",
              "      <td>10.434293</td>\n",
              "      <td>11.828445</td>\n",
              "      <td>1.399770</td>\n",
              "      <td>1.383346e+06</td>\n",
              "      <td>6.075947e+05</td>\n",
              "      <td>0.815257</td>\n",
              "      <td>10.674667</td>\n",
              "    </tr>\n",
              "    <tr>\n",
              "      <th>min</th>\n",
              "      <td>1.000000</td>\n",
              "      <td>0.000000</td>\n",
              "      <td>1.000000</td>\n",
              "      <td>0.000000</td>\n",
              "      <td>16.000000</td>\n",
              "      <td>3.000000</td>\n",
              "      <td>110.000000</td>\n",
              "      <td>15.000000</td>\n",
              "      <td>20.000000</td>\n",
              "      <td>200.000000</td>\n",
              "      <td>50.000000</td>\n",
              "      <td>35.000000</td>\n",
              "      <td>0.000000</td>\n",
              "      <td>3.000000</td>\n",
              "      <td>3.000000e+05</td>\n",
              "      <td>3.000000e+05</td>\n",
              "      <td>0.000000</td>\n",
              "      <td>29.289600</td>\n",
              "    </tr>\n",
              "    <tr>\n",
              "      <th>25%</th>\n",
              "      <td>2679.250000</td>\n",
              "      <td>0.000000</td>\n",
              "      <td>2.000000</td>\n",
              "      <td>0.000000</td>\n",
              "      <td>29.000000</td>\n",
              "      <td>6.000000</td>\n",
              "      <td>194.000000</td>\n",
              "      <td>52.000000</td>\n",
              "      <td>68.000000</td>\n",
              "      <td>237.000000</td>\n",
              "      <td>62.000000</td>\n",
              "      <td>44.000000</td>\n",
              "      <td>10.000000</td>\n",
              "      <td>4.000000</td>\n",
              "      <td>1.400000e+06</td>\n",
              "      <td>8.000000e+05</td>\n",
              "      <td>0.000000</td>\n",
              "      <td>47.277426</td>\n",
              "    </tr>\n",
              "    <tr>\n",
              "      <th>50%</th>\n",
              "      <td>10003.500000</td>\n",
              "      <td>1.000000</td>\n",
              "      <td>2.000000</td>\n",
              "      <td>0.000000</td>\n",
              "      <td>42.000000</td>\n",
              "      <td>9.000000</td>\n",
              "      <td>276.000000</td>\n",
              "      <td>88.000000</td>\n",
              "      <td>117.000000</td>\n",
              "      <td>276.000000</td>\n",
              "      <td>75.000000</td>\n",
              "      <td>53.000000</td>\n",
              "      <td>20.000000</td>\n",
              "      <td>5.000000</td>\n",
              "      <td>2.600000e+06</td>\n",
              "      <td>1.300000e+06</td>\n",
              "      <td>1.000000</td>\n",
              "      <td>49.008389</td>\n",
              "    </tr>\n",
              "    <tr>\n",
              "      <th>75%</th>\n",
              "      <td>15141.750000</td>\n",
              "      <td>2.000000</td>\n",
              "      <td>4.000000</td>\n",
              "      <td>1.000000</td>\n",
              "      <td>55.000000</td>\n",
              "      <td>12.000000</td>\n",
              "      <td>364.000000</td>\n",
              "      <td>124.000000</td>\n",
              "      <td>165.000000</td>\n",
              "      <td>313.000000</td>\n",
              "      <td>88.000000</td>\n",
              "      <td>62.000000</td>\n",
              "      <td>30.000000</td>\n",
              "      <td>6.000000</td>\n",
              "      <td>3.800000e+06</td>\n",
              "      <td>1.800000e+06</td>\n",
              "      <td>2.000000</td>\n",
              "      <td>52.762313</td>\n",
              "    </tr>\n",
              "    <tr>\n",
              "      <th>max</th>\n",
              "      <td>22695.000000</td>\n",
              "      <td>2.000000</td>\n",
              "      <td>8.000000</td>\n",
              "      <td>2.000000</td>\n",
              "      <td>68.000000</td>\n",
              "      <td>15.000000</td>\n",
              "      <td>450.000000</td>\n",
              "      <td>160.000000</td>\n",
              "      <td>210.000000</td>\n",
              "      <td>350.000000</td>\n",
              "      <td>100.000000</td>\n",
              "      <td>70.000000</td>\n",
              "      <td>40.000000</td>\n",
              "      <td>7.000000</td>\n",
              "      <td>5.000000e+06</td>\n",
              "      <td>2.300000e+06</td>\n",
              "      <td>2.000000</td>\n",
              "      <td>97.632000</td>\n",
              "    </tr>\n",
              "  </tbody>\n",
              "</table>\n",
              "</div>"
            ],
            "text/plain": [
              "          people_ID      Children  ...     FT/month   Infect_Prob\n",
              "count  10714.000000  10403.000000  ...  9991.000000  10714.000000\n",
              "mean   10084.893784      1.062770  ...     1.004604     52.280680\n",
              "std     7108.663645      0.818222  ...     0.815257     10.674667\n",
              "min        1.000000      0.000000  ...     0.000000     29.289600\n",
              "25%     2679.250000      0.000000  ...     0.000000     47.277426\n",
              "50%    10003.500000      1.000000  ...     1.000000     49.008389\n",
              "75%    15141.750000      2.000000  ...     2.000000     52.762313\n",
              "max    22695.000000      2.000000  ...     2.000000     97.632000\n",
              "\n",
              "[8 rows x 18 columns]"
            ]
          },
          "metadata": {
            "tags": []
          },
          "execution_count": 6
        }
      ]
    },
    {
      "cell_type": "code",
      "metadata": {
        "id": "AIB7csT8q4hk",
        "colab_type": "code",
        "outputId": "1e9595e6-6019-4a87-ea43-7bf0537e9e57",
        "colab": {
          "base_uri": "https://localhost:8080/",
          "height": 334
        }
      },
      "source": [
        "test.describe()"
      ],
      "execution_count": 7,
      "outputs": [
        {
          "output_type": "execute_result",
          "data": {
            "text/html": [
              "<div>\n",
              "<style scoped>\n",
              "    .dataframe tbody tr th:only-of-type {\n",
              "        vertical-align: middle;\n",
              "    }\n",
              "\n",
              "    .dataframe tbody tr th {\n",
              "        vertical-align: top;\n",
              "    }\n",
              "\n",
              "    .dataframe thead th {\n",
              "        text-align: right;\n",
              "    }\n",
              "</style>\n",
              "<table border=\"1\" class=\"dataframe\">\n",
              "  <thead>\n",
              "    <tr style=\"text-align: right;\">\n",
              "      <th></th>\n",
              "      <th>people_ID</th>\n",
              "      <th>Children</th>\n",
              "      <th>cases/1M</th>\n",
              "      <th>Deaths/1M</th>\n",
              "      <th>Age</th>\n",
              "      <th>Coma score</th>\n",
              "      <th>Diuresis</th>\n",
              "      <th>Platelets</th>\n",
              "      <th>HBB</th>\n",
              "      <th>d-dimer</th>\n",
              "      <th>Heart rate</th>\n",
              "      <th>HDL cholesterol</th>\n",
              "      <th>Charlson Index</th>\n",
              "      <th>Blood Glucose</th>\n",
              "      <th>Insurance</th>\n",
              "      <th>salary</th>\n",
              "      <th>FT/month</th>\n",
              "    </tr>\n",
              "  </thead>\n",
              "  <tbody>\n",
              "    <tr>\n",
              "      <th>count</th>\n",
              "      <td>14498.000000</td>\n",
              "      <td>14498.000000</td>\n",
              "      <td>14498.000000</td>\n",
              "      <td>14498.000000</td>\n",
              "      <td>14498.000000</td>\n",
              "      <td>14498.000000</td>\n",
              "      <td>14498.000000</td>\n",
              "      <td>14498.000000</td>\n",
              "      <td>14498.000000</td>\n",
              "      <td>14498.000000</td>\n",
              "      <td>14498.000000</td>\n",
              "      <td>14498.000000</td>\n",
              "      <td>14498.000000</td>\n",
              "      <td>14498.000000</td>\n",
              "      <td>1.449800e+04</td>\n",
              "      <td>1.449800e+04</td>\n",
              "      <td>14498.000000</td>\n",
              "    </tr>\n",
              "    <tr>\n",
              "      <th>mean</th>\n",
              "      <td>14469.963167</td>\n",
              "      <td>0.978963</td>\n",
              "      <td>5.886743</td>\n",
              "      <td>1.342737</td>\n",
              "      <td>42.083667</td>\n",
              "      <td>8.985860</td>\n",
              "      <td>280.657608</td>\n",
              "      <td>86.886467</td>\n",
              "      <td>114.082977</td>\n",
              "      <td>274.667264</td>\n",
              "      <td>75.021727</td>\n",
              "      <td>52.417920</td>\n",
              "      <td>19.997448</td>\n",
              "      <td>4.995724</td>\n",
              "      <td>2.654849e+06</td>\n",
              "      <td>1.300021e+06</td>\n",
              "      <td>1.002966</td>\n",
              "    </tr>\n",
              "    <tr>\n",
              "      <th>std</th>\n",
              "      <td>6826.922260</td>\n",
              "      <td>0.811833</td>\n",
              "      <td>4.651725</td>\n",
              "      <td>0.953566</td>\n",
              "      <td>15.326426</td>\n",
              "      <td>3.754762</td>\n",
              "      <td>98.240677</td>\n",
              "      <td>42.194450</td>\n",
              "      <td>55.207974</td>\n",
              "      <td>43.706160</td>\n",
              "      <td>14.549680</td>\n",
              "      <td>10.341219</td>\n",
              "      <td>11.887840</td>\n",
              "      <td>1.416303</td>\n",
              "      <td>1.375384e+06</td>\n",
              "      <td>6.055975e+05</td>\n",
              "      <td>0.818952</td>\n",
              "    </tr>\n",
              "    <tr>\n",
              "      <th>min</th>\n",
              "      <td>3887.000000</td>\n",
              "      <td>0.000000</td>\n",
              "      <td>0.000000</td>\n",
              "      <td>0.000000</td>\n",
              "      <td>16.000000</td>\n",
              "      <td>3.000000</td>\n",
              "      <td>110.000000</td>\n",
              "      <td>15.000000</td>\n",
              "      <td>20.000000</td>\n",
              "      <td>200.000000</td>\n",
              "      <td>50.000000</td>\n",
              "      <td>35.000000</td>\n",
              "      <td>0.000000</td>\n",
              "      <td>3.000000</td>\n",
              "      <td>3.000000e+05</td>\n",
              "      <td>3.000000e+05</td>\n",
              "      <td>0.000000</td>\n",
              "    </tr>\n",
              "    <tr>\n",
              "      <th>25%</th>\n",
              "      <td>7747.250000</td>\n",
              "      <td>0.000000</td>\n",
              "      <td>3.000000</td>\n",
              "      <td>1.000000</td>\n",
              "      <td>29.000000</td>\n",
              "      <td>6.000000</td>\n",
              "      <td>195.000000</td>\n",
              "      <td>51.000000</td>\n",
              "      <td>66.000000</td>\n",
              "      <td>237.000000</td>\n",
              "      <td>63.000000</td>\n",
              "      <td>43.000000</td>\n",
              "      <td>10.000000</td>\n",
              "      <td>4.000000</td>\n",
              "      <td>1.500000e+06</td>\n",
              "      <td>8.000000e+05</td>\n",
              "      <td>0.000000</td>\n",
              "    </tr>\n",
              "    <tr>\n",
              "      <th>50%</th>\n",
              "      <td>16467.500000</td>\n",
              "      <td>1.000000</td>\n",
              "      <td>4.000000</td>\n",
              "      <td>1.000000</td>\n",
              "      <td>42.000000</td>\n",
              "      <td>9.000000</td>\n",
              "      <td>280.000000</td>\n",
              "      <td>87.000000</td>\n",
              "      <td>113.000000</td>\n",
              "      <td>274.000000</td>\n",
              "      <td>75.000000</td>\n",
              "      <td>52.000000</td>\n",
              "      <td>20.000000</td>\n",
              "      <td>5.000000</td>\n",
              "      <td>2.700000e+06</td>\n",
              "      <td>1.300000e+06</td>\n",
              "      <td>1.000000</td>\n",
              "    </tr>\n",
              "    <tr>\n",
              "      <th>75%</th>\n",
              "      <td>20315.750000</td>\n",
              "      <td>2.000000</td>\n",
              "      <td>11.000000</td>\n",
              "      <td>2.000000</td>\n",
              "      <td>55.000000</td>\n",
              "      <td>12.000000</td>\n",
              "      <td>366.000000</td>\n",
              "      <td>124.000000</td>\n",
              "      <td>162.000000</td>\n",
              "      <td>312.000000</td>\n",
              "      <td>88.000000</td>\n",
              "      <td>61.000000</td>\n",
              "      <td>30.000000</td>\n",
              "      <td>6.000000</td>\n",
              "      <td>3.800000e+06</td>\n",
              "      <td>1.800000e+06</td>\n",
              "      <td>2.000000</td>\n",
              "    </tr>\n",
              "    <tr>\n",
              "      <th>max</th>\n",
              "      <td>25212.000000</td>\n",
              "      <td>2.000000</td>\n",
              "      <td>13.000000</td>\n",
              "      <td>3.000000</td>\n",
              "      <td>68.000000</td>\n",
              "      <td>15.000000</td>\n",
              "      <td>450.000000</td>\n",
              "      <td>160.000000</td>\n",
              "      <td>210.000000</td>\n",
              "      <td>350.000000</td>\n",
              "      <td>100.000000</td>\n",
              "      <td>70.000000</td>\n",
              "      <td>40.000000</td>\n",
              "      <td>7.000000</td>\n",
              "      <td>5.000000e+06</td>\n",
              "      <td>2.300000e+06</td>\n",
              "      <td>2.000000</td>\n",
              "    </tr>\n",
              "  </tbody>\n",
              "</table>\n",
              "</div>"
            ],
            "text/plain": [
              "          people_ID      Children  ...        salary      FT/month\n",
              "count  14498.000000  14498.000000  ...  1.449800e+04  14498.000000\n",
              "mean   14469.963167      0.978963  ...  1.300021e+06      1.002966\n",
              "std     6826.922260      0.811833  ...  6.055975e+05      0.818952\n",
              "min     3887.000000      0.000000  ...  3.000000e+05      0.000000\n",
              "25%     7747.250000      0.000000  ...  8.000000e+05      0.000000\n",
              "50%    16467.500000      1.000000  ...  1.300000e+06      1.000000\n",
              "75%    20315.750000      2.000000  ...  1.800000e+06      2.000000\n",
              "max    25212.000000      2.000000  ...  2.300000e+06      2.000000\n",
              "\n",
              "[8 rows x 17 columns]"
            ]
          },
          "metadata": {
            "tags": []
          },
          "execution_count": 7
        }
      ]
    },
    {
      "cell_type": "code",
      "metadata": {
        "id": "lWfqs0Hpq623",
        "colab_type": "code",
        "outputId": "2bc6cca5-514f-45c2-aaf3-24746de267b9",
        "colab": {
          "base_uri": "https://localhost:8080/",
          "height": 136
        }
      },
      "source": [
        "train.columns"
      ],
      "execution_count": 8,
      "outputs": [
        {
          "output_type": "execute_result",
          "data": {
            "text/plain": [
              "Index(['people_ID', 'Region', 'Gender', 'Designation', 'Name', 'Married',\n",
              "       'Children', 'Occupation', 'Mode_transport', 'cases/1M', 'Deaths/1M',\n",
              "       'comorbidity', 'Age', 'Coma score', 'Pulmonary score',\n",
              "       'cardiological pressure', 'Diuresis', 'Platelets', 'HBB', 'd-dimer',\n",
              "       'Heart rate', 'HDL cholesterol', 'Charlson Index', 'Blood Glucose',\n",
              "       'Insurance', 'salary', 'FT/month', 'Infect_Prob'],\n",
              "      dtype='object')"
            ]
          },
          "metadata": {
            "tags": []
          },
          "execution_count": 8
        }
      ]
    },
    {
      "cell_type": "code",
      "metadata": {
        "id": "HJGdDaAssX_v",
        "colab_type": "code",
        "colab": {}
      },
      "source": [
        "#Dropping the columns which are not essential\n",
        "to_drop_1 = ['people_ID','Designation', 'Name','Infect_Prob','Deaths/1M']\n",
        "new_df = train.drop(to_drop_1 ,axis=1)\n",
        "Y = train['Infect_Prob']\n",
        "\n",
        "to_drop_2 = ['people_ID','Designation','Name','Deaths/1M']\n",
        "test_id = test['people_ID']\n",
        "test_df = test.drop(to_drop_2, axis=1)"
      ],
      "execution_count": 0,
      "outputs": []
    },
    {
      "cell_type": "code",
      "metadata": {
        "id": "zsRZtzd_t0ZK",
        "colab_type": "code",
        "outputId": "043f66f0-89b9-4116-a03d-4cb3e5fc3fa6",
        "colab": {
          "base_uri": "https://localhost:8080/",
          "height": 119
        }
      },
      "source": [
        "new_df['Region'].value_counts()"
      ],
      "execution_count": 10,
      "outputs": [
        {
          "output_type": "execute_result",
          "data": {
            "text/plain": [
              "Chennai         2581\n",
              "Bengaluru       2573\n",
              "Chandigarh      2563\n",
              "Bhubaneshwar    2537\n",
              "Delhi            460\n",
              "Name: Region, dtype: int64"
            ]
          },
          "metadata": {
            "tags": []
          },
          "execution_count": 10
        }
      ]
    },
    {
      "cell_type": "code",
      "metadata": {
        "id": "6gmIHS12uQsE",
        "colab_type": "code",
        "outputId": "3c9492c6-80ef-4202-b77e-ae8339083f5e",
        "colab": {
          "base_uri": "https://localhost:8080/",
          "height": 136
        }
      },
      "source": [
        "test_df['Region'].value_counts()"
      ],
      "execution_count": 11,
      "outputs": [
        {
          "output_type": "execute_result",
          "data": {
            "text/plain": [
              "Pune                  2503\n",
              "Thiruvananthapuram    2502\n",
              "Kolkata               2483\n",
              "Mumbai                2475\n",
              "Hyderabad             2457\n",
              "Delhi                 2078\n",
              "Name: Region, dtype: int64"
            ]
          },
          "metadata": {
            "tags": []
          },
          "execution_count": 11
        }
      ]
    },
    {
      "cell_type": "code",
      "metadata": {
        "id": "0vNDoFUmIMU7",
        "colab_type": "code",
        "colab": {}
      },
      "source": [
        "#Dropping the column - 'Region' as both test and train dataset contain different sets of values\n",
        "new_df = new_df.drop(['Region'],axis=1)\n",
        "test_df = test_df.drop(['Region'],axis=1)"
      ],
      "execution_count": 0,
      "outputs": []
    },
    {
      "cell_type": "code",
      "metadata": {
        "id": "MMg271WsF9T0",
        "colab_type": "code",
        "colab": {}
      },
      "source": [
        "#Making list of both categorical features and numerical features\n",
        "cat_col = ['Gender','Married','Occupation','Mode_transport','comorbidity','Pulmonary score','cardiological pressure']\n",
        "con_col = ['cases/1M','Age','Coma score','Diuresis','Platelets', 'HBB', 'd-dimer', 'Heart rate', 'HDL cholesterol','Charlson Index', 'Blood Glucose', 'Insurance', 'salary', 'FT/month']"
      ],
      "execution_count": 0,
      "outputs": []
    },
    {
      "cell_type": "code",
      "metadata": {
        "id": "Av9M-A8rAaE7",
        "colab_type": "code",
        "outputId": "e2bb6db1-701c-46e0-b29d-ab0e7b90cf66",
        "colab": {
          "base_uri": "https://localhost:8080/",
          "height": 408
        }
      },
      "source": [
        "#Counting non-NaN values in each columns\n",
        "new_df.count()"
      ],
      "execution_count": 14,
      "outputs": [
        {
          "output_type": "execute_result",
          "data": {
            "text/plain": [
              "Gender                    10714\n",
              "Married                   10714\n",
              "Children                  10403\n",
              "Occupation                 9967\n",
              "Mode_transport            10711\n",
              "cases/1M                  10714\n",
              "comorbidity               10488\n",
              "Age                       10714\n",
              "Coma score                10714\n",
              "Pulmonary score           10714\n",
              "cardiological pressure    10617\n",
              "Diuresis                   9998\n",
              "Platelets                  9790\n",
              "HBB                       10698\n",
              "d-dimer                    9600\n",
              "Heart rate                 9600\n",
              "HDL cholesterol           10679\n",
              "Charlson Index            10714\n",
              "Blood Glucose             10714\n",
              "Insurance                  9624\n",
              "salary                    10714\n",
              "FT/month                   9991\n",
              "dtype: int64"
            ]
          },
          "metadata": {
            "tags": []
          },
          "execution_count": 14
        }
      ]
    },
    {
      "cell_type": "code",
      "metadata": {
        "id": "MEq-UzThJf0f",
        "colab_type": "code",
        "colab": {}
      },
      "source": [
        "#Defining columns to be filled\n",
        "to_be_filled = ['Children','Occupation','Mode_transport','comorbidity','cardiological pressure','Diuresis','Platelets','HBB','d-dimer','Heart rate','HDL cholesterol','Insurance','FT/month']\n",
        "\n",
        "#Function to fill the NaN values\n",
        "#NaN is replaced with most occuring value if the feature is categorical else filled with median value\n",
        "def fill_values(df,col):\n",
        "  if((col in cat_col) or (col=='Children')):\n",
        "    df[col] = df[col].fillna(df[col].value_counts().index[0])\n",
        "  else:\n",
        "    df[col] = df[col].fillna(df[col].median())\n",
        "  return df\n",
        "\n",
        "for col in to_be_filled:\n",
        "  new_df = fill_values(new_df,col)"
      ],
      "execution_count": 0,
      "outputs": []
    },
    {
      "cell_type": "code",
      "metadata": {
        "id": "rsG-IGlLq5vS",
        "colab_type": "code",
        "colab": {}
      },
      "source": [
        "#Numerical features are scaled, thus no single feature can pre-dominate the others\n",
        "scaler = MinMaxScaler()\n",
        "def scale_col(df,col):\n",
        "  df[col] = pd.DataFrame(scaler.fit_transform(df[col].values.reshape(-1,1)))\n",
        "  test_df[col] = pd.DataFrame(scaler.transform(test_df[col].values.reshape(-1,1)))\n",
        "  return df\n",
        "\n",
        "for col in con_col:\n",
        "  new_df = scale_col(new_df,col)"
      ],
      "execution_count": 0,
      "outputs": []
    },
    {
      "cell_type": "code",
      "metadata": {
        "id": "NfWqJjMPNavM",
        "colab_type": "code",
        "colab": {}
      },
      "source": [
        "#One-hot encoding categorical features as to use them effectively in the model\n",
        "cat_col2 = cat_col.copy()\n",
        "cat_col2.remove('Gender')\n",
        "cat_col2.remove('Married')\n",
        "\n",
        "le = LabelEncoder()\n",
        "new_df['Gender'] = le.fit_transform(new_df['Gender'])\n",
        "test_df['Gender'] = le.transform(test_df['Gender'])\n",
        "new_df['Married'] = le.fit_transform(new_df['Married'])\n",
        "test_df['Married'] = le.transform(test_df['Married'])\n",
        "\n",
        "ce_bin = ce.OneHotEncoder(cols = cat_col2)\n",
        "new_df = ce_bin.fit_transform(new_df)\n",
        "test_df = ce_bin.transform(test_df)"
      ],
      "execution_count": 0,
      "outputs": []
    },
    {
      "cell_type": "code",
      "metadata": {
        "id": "f2MfE2fBN_g_",
        "colab_type": "code",
        "colab": {
          "base_uri": "https://localhost:8080/",
          "height": 241
        },
        "outputId": "f34337d5-55f3-4d67-999a-e97af86c3a94"
      },
      "source": [
        "new_df.head()"
      ],
      "execution_count": 18,
      "outputs": [
        {
          "output_type": "execute_result",
          "data": {
            "text/html": [
              "<div>\n",
              "<style scoped>\n",
              "    .dataframe tbody tr th:only-of-type {\n",
              "        vertical-align: middle;\n",
              "    }\n",
              "\n",
              "    .dataframe tbody tr th {\n",
              "        vertical-align: top;\n",
              "    }\n",
              "\n",
              "    .dataframe thead th {\n",
              "        text-align: right;\n",
              "    }\n",
              "</style>\n",
              "<table border=\"1\" class=\"dataframe\">\n",
              "  <thead>\n",
              "    <tr style=\"text-align: right;\">\n",
              "      <th></th>\n",
              "      <th>Gender</th>\n",
              "      <th>Married</th>\n",
              "      <th>Children</th>\n",
              "      <th>Occupation_1</th>\n",
              "      <th>Occupation_2</th>\n",
              "      <th>Occupation_3</th>\n",
              "      <th>Occupation_4</th>\n",
              "      <th>Occupation_5</th>\n",
              "      <th>Occupation_6</th>\n",
              "      <th>Occupation_7</th>\n",
              "      <th>Occupation_8</th>\n",
              "      <th>Occupation_9</th>\n",
              "      <th>Mode_transport_1</th>\n",
              "      <th>Mode_transport_2</th>\n",
              "      <th>Mode_transport_3</th>\n",
              "      <th>cases/1M</th>\n",
              "      <th>comorbidity_1</th>\n",
              "      <th>comorbidity_2</th>\n",
              "      <th>comorbidity_3</th>\n",
              "      <th>comorbidity_4</th>\n",
              "      <th>Age</th>\n",
              "      <th>Coma score</th>\n",
              "      <th>Pulmonary score_1</th>\n",
              "      <th>Pulmonary score_2</th>\n",
              "      <th>Pulmonary score_3</th>\n",
              "      <th>Pulmonary score_4</th>\n",
              "      <th>cardiological pressure_1</th>\n",
              "      <th>cardiological pressure_2</th>\n",
              "      <th>cardiological pressure_3</th>\n",
              "      <th>cardiological pressure_4</th>\n",
              "      <th>Diuresis</th>\n",
              "      <th>Platelets</th>\n",
              "      <th>HBB</th>\n",
              "      <th>d-dimer</th>\n",
              "      <th>Heart rate</th>\n",
              "      <th>HDL cholesterol</th>\n",
              "      <th>Charlson Index</th>\n",
              "      <th>Blood Glucose</th>\n",
              "      <th>Insurance</th>\n",
              "      <th>salary</th>\n",
              "      <th>FT/month</th>\n",
              "    </tr>\n",
              "  </thead>\n",
              "  <tbody>\n",
              "    <tr>\n",
              "      <th>0</th>\n",
              "      <td>0</td>\n",
              "      <td>1</td>\n",
              "      <td>1.0</td>\n",
              "      <td>1</td>\n",
              "      <td>0</td>\n",
              "      <td>0</td>\n",
              "      <td>0</td>\n",
              "      <td>0</td>\n",
              "      <td>0</td>\n",
              "      <td>0</td>\n",
              "      <td>0</td>\n",
              "      <td>0</td>\n",
              "      <td>1</td>\n",
              "      <td>0</td>\n",
              "      <td>0</td>\n",
              "      <td>0.142857</td>\n",
              "      <td>1</td>\n",
              "      <td>0</td>\n",
              "      <td>0</td>\n",
              "      <td>0</td>\n",
              "      <td>1.000000</td>\n",
              "      <td>0.416667</td>\n",
              "      <td>1</td>\n",
              "      <td>0</td>\n",
              "      <td>0</td>\n",
              "      <td>0</td>\n",
              "      <td>1</td>\n",
              "      <td>0</td>\n",
              "      <td>0</td>\n",
              "      <td>0</td>\n",
              "      <td>0.973529</td>\n",
              "      <td>0.958621</td>\n",
              "      <td>0.384211</td>\n",
              "      <td>0.220000</td>\n",
              "      <td>0.64</td>\n",
              "      <td>0.657143</td>\n",
              "      <td>0.675</td>\n",
              "      <td>1.00</td>\n",
              "      <td>0.702128</td>\n",
              "      <td>0.50</td>\n",
              "      <td>1.0</td>\n",
              "    </tr>\n",
              "    <tr>\n",
              "      <th>1</th>\n",
              "      <td>0</td>\n",
              "      <td>1</td>\n",
              "      <td>2.0</td>\n",
              "      <td>1</td>\n",
              "      <td>0</td>\n",
              "      <td>0</td>\n",
              "      <td>0</td>\n",
              "      <td>0</td>\n",
              "      <td>0</td>\n",
              "      <td>0</td>\n",
              "      <td>0</td>\n",
              "      <td>0</td>\n",
              "      <td>0</td>\n",
              "      <td>1</td>\n",
              "      <td>0</td>\n",
              "      <td>0.142857</td>\n",
              "      <td>0</td>\n",
              "      <td>1</td>\n",
              "      <td>0</td>\n",
              "      <td>0</td>\n",
              "      <td>0.923077</td>\n",
              "      <td>1.000000</td>\n",
              "      <td>0</td>\n",
              "      <td>1</td>\n",
              "      <td>0</td>\n",
              "      <td>0</td>\n",
              "      <td>0</td>\n",
              "      <td>1</td>\n",
              "      <td>0</td>\n",
              "      <td>0</td>\n",
              "      <td>0.488235</td>\n",
              "      <td>0.731034</td>\n",
              "      <td>0.189474</td>\n",
              "      <td>0.853333</td>\n",
              "      <td>0.78</td>\n",
              "      <td>0.942857</td>\n",
              "      <td>0.125</td>\n",
              "      <td>0.75</td>\n",
              "      <td>0.276596</td>\n",
              "      <td>0.05</td>\n",
              "      <td>0.5</td>\n",
              "    </tr>\n",
              "    <tr>\n",
              "      <th>2</th>\n",
              "      <td>0</td>\n",
              "      <td>0</td>\n",
              "      <td>1.0</td>\n",
              "      <td>0</td>\n",
              "      <td>1</td>\n",
              "      <td>0</td>\n",
              "      <td>0</td>\n",
              "      <td>0</td>\n",
              "      <td>0</td>\n",
              "      <td>0</td>\n",
              "      <td>0</td>\n",
              "      <td>0</td>\n",
              "      <td>1</td>\n",
              "      <td>0</td>\n",
              "      <td>0</td>\n",
              "      <td>0.142857</td>\n",
              "      <td>0</td>\n",
              "      <td>0</td>\n",
              "      <td>1</td>\n",
              "      <td>0</td>\n",
              "      <td>0.057692</td>\n",
              "      <td>0.833333</td>\n",
              "      <td>0</td>\n",
              "      <td>0</td>\n",
              "      <td>1</td>\n",
              "      <td>0</td>\n",
              "      <td>0</td>\n",
              "      <td>0</td>\n",
              "      <td>1</td>\n",
              "      <td>0</td>\n",
              "      <td>0.900000</td>\n",
              "      <td>0.751724</td>\n",
              "      <td>0.615789</td>\n",
              "      <td>0.086667</td>\n",
              "      <td>0.54</td>\n",
              "      <td>0.228571</td>\n",
              "      <td>1.000</td>\n",
              "      <td>0.75</td>\n",
              "      <td>0.659574</td>\n",
              "      <td>0.30</td>\n",
              "      <td>0.5</td>\n",
              "    </tr>\n",
              "    <tr>\n",
              "      <th>3</th>\n",
              "      <td>0</td>\n",
              "      <td>1</td>\n",
              "      <td>1.0</td>\n",
              "      <td>0</td>\n",
              "      <td>0</td>\n",
              "      <td>1</td>\n",
              "      <td>0</td>\n",
              "      <td>0</td>\n",
              "      <td>0</td>\n",
              "      <td>0</td>\n",
              "      <td>0</td>\n",
              "      <td>0</td>\n",
              "      <td>0</td>\n",
              "      <td>0</td>\n",
              "      <td>1</td>\n",
              "      <td>0.142857</td>\n",
              "      <td>0</td>\n",
              "      <td>0</td>\n",
              "      <td>0</td>\n",
              "      <td>1</td>\n",
              "      <td>0.326923</td>\n",
              "      <td>0.500000</td>\n",
              "      <td>0</td>\n",
              "      <td>0</td>\n",
              "      <td>0</td>\n",
              "      <td>1</td>\n",
              "      <td>0</td>\n",
              "      <td>0</td>\n",
              "      <td>0</td>\n",
              "      <td>1</td>\n",
              "      <td>0.882353</td>\n",
              "      <td>0.572414</td>\n",
              "      <td>0.773684</td>\n",
              "      <td>0.500000</td>\n",
              "      <td>0.28</td>\n",
              "      <td>0.714286</td>\n",
              "      <td>0.675</td>\n",
              "      <td>1.00</td>\n",
              "      <td>0.085106</td>\n",
              "      <td>1.00</td>\n",
              "      <td>0.5</td>\n",
              "    </tr>\n",
              "    <tr>\n",
              "      <th>4</th>\n",
              "      <td>0</td>\n",
              "      <td>0</td>\n",
              "      <td>2.0</td>\n",
              "      <td>0</td>\n",
              "      <td>0</td>\n",
              "      <td>0</td>\n",
              "      <td>1</td>\n",
              "      <td>0</td>\n",
              "      <td>0</td>\n",
              "      <td>0</td>\n",
              "      <td>0</td>\n",
              "      <td>0</td>\n",
              "      <td>0</td>\n",
              "      <td>0</td>\n",
              "      <td>1</td>\n",
              "      <td>0.142857</td>\n",
              "      <td>0</td>\n",
              "      <td>1</td>\n",
              "      <td>0</td>\n",
              "      <td>0</td>\n",
              "      <td>0.134615</td>\n",
              "      <td>0.333333</td>\n",
              "      <td>1</td>\n",
              "      <td>0</td>\n",
              "      <td>0</td>\n",
              "      <td>0</td>\n",
              "      <td>1</td>\n",
              "      <td>0</td>\n",
              "      <td>0</td>\n",
              "      <td>0</td>\n",
              "      <td>0.823529</td>\n",
              "      <td>0.041379</td>\n",
              "      <td>0.700000</td>\n",
              "      <td>0.873333</td>\n",
              "      <td>0.42</td>\n",
              "      <td>0.828571</td>\n",
              "      <td>0.800</td>\n",
              "      <td>1.00</td>\n",
              "      <td>0.617021</td>\n",
              "      <td>0.40</td>\n",
              "      <td>0.5</td>\n",
              "    </tr>\n",
              "  </tbody>\n",
              "</table>\n",
              "</div>"
            ],
            "text/plain": [
              "   Gender  Married  Children  ...  Insurance  salary  FT/month\n",
              "0       0        1       1.0  ...   0.702128    0.50       1.0\n",
              "1       0        1       2.0  ...   0.276596    0.05       0.5\n",
              "2       0        0       1.0  ...   0.659574    0.30       0.5\n",
              "3       0        1       1.0  ...   0.085106    1.00       0.5\n",
              "4       0        0       2.0  ...   0.617021    0.40       0.5\n",
              "\n",
              "[5 rows x 41 columns]"
            ]
          },
          "metadata": {
            "tags": []
          },
          "execution_count": 18
        }
      ]
    },
    {
      "cell_type": "code",
      "metadata": {
        "id": "H24MCLy_4iSm",
        "colab_type": "code",
        "colab": {}
      },
      "source": [
        "#Splitting train and validation set in the ratio of 0.15 (as training dataset is less)\n",
        "X_train, X_test, y_train, y_test = train_test_split(new_df, Y, test_size=0.15, random_state=0)"
      ],
      "execution_count": 0,
      "outputs": []
    },
    {
      "cell_type": "code",
      "metadata": {
        "id": "ZQtDXdtI6VYw",
        "colab_type": "code",
        "outputId": "7c8a0c4e-8d24-4d50-9f85-6167bffb48fd",
        "colab": {
          "base_uri": "https://localhost:8080/",
          "height": 51
        }
      },
      "source": [
        "print(X_train.shape)\n",
        "print(X_test.shape)"
      ],
      "execution_count": 20,
      "outputs": [
        {
          "output_type": "stream",
          "text": [
            "(9106, 41)\n",
            "(1608, 41)\n"
          ],
          "name": "stdout"
        }
      ]
    },
    {
      "cell_type": "code",
      "metadata": {
        "id": "e-rNSEsMAa_1",
        "colab_type": "code",
        "outputId": "9d579077-ae09-4fb5-ce66-33d0145b783a",
        "colab": {
          "base_uri": "https://localhost:8080/",
          "height": 34
        }
      },
      "source": [
        "#Using Linear Regression\n",
        "model_lr = LinearRegression()\n",
        "model_lr.fit(X_train,y_train)\n",
        "y_pred = model_lr.predict(X_test)\n",
        "mse(y_test,y_pred)"
      ],
      "execution_count": 21,
      "outputs": [
        {
          "output_type": "execute_result",
          "data": {
            "text/plain": [
              "80.41890628990959"
            ]
          },
          "metadata": {
            "tags": []
          },
          "execution_count": 21
        }
      ]
    },
    {
      "cell_type": "code",
      "metadata": {
        "id": "XPJ83sAXTP4u",
        "colab_type": "code",
        "colab": {
          "base_uri": "https://localhost:8080/",
          "height": 34
        },
        "outputId": "9f365408-c830-4fdb-d2a5-c887416b195a"
      },
      "source": [
        "#Using Polynomial Regression (degree - 2)\n",
        "poly = PolynomialFeatures(2)\n",
        "tmp_train = poly.fit_transform(X_train)\n",
        "tmp_test = poly.fit_transform(X_test)\n",
        "\n",
        "model_poly = LinearRegression()\n",
        "model_poly.fit(tmp_train,y_train)\n",
        "y_pred = model_poly.predict(tmp_test)\n",
        "mse(y_test,y_pred)"
      ],
      "execution_count": 22,
      "outputs": [
        {
          "output_type": "execute_result",
          "data": {
            "text/plain": [
              "1.935192677039263e+22"
            ]
          },
          "metadata": {
            "tags": []
          },
          "execution_count": 22
        }
      ]
    },
    {
      "cell_type": "code",
      "metadata": {
        "id": "f53coCbYBGsU",
        "colab_type": "code",
        "outputId": "e9731c0d-6e6e-44a3-8212-4e604caa687b",
        "colab": {
          "base_uri": "https://localhost:8080/",
          "height": 34
        }
      },
      "source": [
        "#Using KNearestNeighbors Regression\n",
        "model_knn = knn(n_neighbors=36)\n",
        "model_knn.fit(X_train,y_train)\n",
        "y_pred = model_knn.predict(X_test)\n",
        "mse(y_test,y_pred)"
      ],
      "execution_count": 23,
      "outputs": [
        {
          "output_type": "execute_result",
          "data": {
            "text/plain": [
              "86.90249251575248"
            ]
          },
          "metadata": {
            "tags": []
          },
          "execution_count": 23
        }
      ]
    },
    {
      "cell_type": "code",
      "metadata": {
        "id": "9k-004qVB-3B",
        "colab_type": "code",
        "colab": {
          "base_uri": "https://localhost:8080/",
          "height": 34
        },
        "outputId": "3a7a6042-c1c9-43e9-838c-023ab2eaa1e3"
      },
      "source": [
        "#Using Random Forest Regressor\n",
        "model_rf = RandomForestRegressor(n_estimators=250, max_depth=8, random_state=0)\n",
        "model_rf.fit(X_train,y_train)\n",
        "y_pred = model_rf.predict(X_test)\n",
        "mse(y_test, y_pred)"
      ],
      "execution_count": 24,
      "outputs": [
        {
          "output_type": "execute_result",
          "data": {
            "text/plain": [
              "75.4450516061491"
            ]
          },
          "metadata": {
            "tags": []
          },
          "execution_count": 24
        }
      ]
    },
    {
      "cell_type": "code",
      "metadata": {
        "id": "pfu4ppmNGbJy",
        "colab_type": "code",
        "colab": {
          "base_uri": "https://localhost:8080/",
          "height": 51
        },
        "outputId": "99dc9d9b-2f8d-4ad8-de4f-ba40f8e9bec2"
      },
      "source": [
        "#Using XGBoost Regressor\n",
        "model_x = XGBRegressor(n_estimators=250, max_depth=10, random_state=0)\n",
        "model_x.fit(X_train,y_train)\n",
        "y_pred = model_x.predict(X_test)\n",
        "mse(y_test, y_pred)"
      ],
      "execution_count": 25,
      "outputs": [
        {
          "output_type": "stream",
          "text": [
            "[20:28:39] WARNING: /workspace/src/objective/regression_obj.cu:152: reg:linear is now deprecated in favor of reg:squarederror.\n"
          ],
          "name": "stdout"
        },
        {
          "output_type": "execute_result",
          "data": {
            "text/plain": [
              "90.37891247393505"
            ]
          },
          "metadata": {
            "tags": []
          },
          "execution_count": 25
        }
      ]
    },
    {
      "cell_type": "code",
      "metadata": {
        "id": "oCj6AZ8AqUh-",
        "colab_type": "code",
        "colab": {
          "base_uri": "https://localhost:8080/",
          "height": 377
        },
        "outputId": "95712639-29c9-4a18-f288-b175c286fcc3"
      },
      "source": [
        "#Using Neural Network\n",
        "model_nn = Sequential([\n",
        "                       \n",
        "                       Dense(15,activation='relu',input_shape=(X_train.shape[1],)),\n",
        "                       Dense(10,activation='relu'),\n",
        "                       Dense(1)\n",
        "\n",
        "])\n",
        "model_nn.summary()"
      ],
      "execution_count": 26,
      "outputs": [
        {
          "output_type": "stream",
          "text": [
            "WARNING:tensorflow:From /usr/local/lib/python3.6/dist-packages/keras/backend/tensorflow_backend.py:66: The name tf.get_default_graph is deprecated. Please use tf.compat.v1.get_default_graph instead.\n",
            "\n",
            "WARNING:tensorflow:From /usr/local/lib/python3.6/dist-packages/keras/backend/tensorflow_backend.py:541: The name tf.placeholder is deprecated. Please use tf.compat.v1.placeholder instead.\n",
            "\n",
            "WARNING:tensorflow:From /usr/local/lib/python3.6/dist-packages/keras/backend/tensorflow_backend.py:4432: The name tf.random_uniform is deprecated. Please use tf.random.uniform instead.\n",
            "\n",
            "Model: \"sequential_1\"\n",
            "_________________________________________________________________\n",
            "Layer (type)                 Output Shape              Param #   \n",
            "=================================================================\n",
            "dense_1 (Dense)              (None, 15)                630       \n",
            "_________________________________________________________________\n",
            "dense_2 (Dense)              (None, 10)                160       \n",
            "_________________________________________________________________\n",
            "dense_3 (Dense)              (None, 1)                 11        \n",
            "=================================================================\n",
            "Total params: 801\n",
            "Trainable params: 801\n",
            "Non-trainable params: 0\n",
            "_________________________________________________________________\n"
          ],
          "name": "stdout"
        }
      ]
    },
    {
      "cell_type": "code",
      "metadata": {
        "id": "V9FCmKr5ulbD",
        "colab_type": "code",
        "colab": {
          "base_uri": "https://localhost:8080/",
          "height": 1000
        },
        "outputId": "a06e1adb-0bfb-43b9-c13a-10b7d69faaae"
      },
      "source": [
        "model_nn.compile(optimizer='adam', loss='mean_squared_error')\n",
        "model_nn.fit(X_train, y_train, epochs=50, validation_data=(X_test, y_test))\n",
        "y_pred = model_nn.predict(X_test)\n",
        "mse(y_test,y_pred)"
      ],
      "execution_count": 27,
      "outputs": [
        {
          "output_type": "stream",
          "text": [
            "WARNING:tensorflow:From /usr/local/lib/python3.6/dist-packages/keras/optimizers.py:793: The name tf.train.Optimizer is deprecated. Please use tf.compat.v1.train.Optimizer instead.\n",
            "\n",
            "WARNING:tensorflow:From /usr/local/lib/python3.6/dist-packages/keras/backend/tensorflow_backend.py:1033: The name tf.assign_add is deprecated. Please use tf.compat.v1.assign_add instead.\n",
            "\n",
            "WARNING:tensorflow:From /usr/local/lib/python3.6/dist-packages/keras/backend/tensorflow_backend.py:1020: The name tf.assign is deprecated. Please use tf.compat.v1.assign instead.\n",
            "\n",
            "WARNING:tensorflow:From /usr/local/lib/python3.6/dist-packages/keras/backend/tensorflow_backend.py:3005: The name tf.Session is deprecated. Please use tf.compat.v1.Session instead.\n",
            "\n",
            "Train on 9106 samples, validate on 1608 samples\n",
            "Epoch 1/50\n",
            "WARNING:tensorflow:From /usr/local/lib/python3.6/dist-packages/keras/backend/tensorflow_backend.py:190: The name tf.get_default_session is deprecated. Please use tf.compat.v1.get_default_session instead.\n",
            "\n",
            "WARNING:tensorflow:From /usr/local/lib/python3.6/dist-packages/keras/backend/tensorflow_backend.py:197: The name tf.ConfigProto is deprecated. Please use tf.compat.v1.ConfigProto instead.\n",
            "\n",
            "WARNING:tensorflow:From /usr/local/lib/python3.6/dist-packages/keras/backend/tensorflow_backend.py:207: The name tf.global_variables is deprecated. Please use tf.compat.v1.global_variables instead.\n",
            "\n",
            "WARNING:tensorflow:From /usr/local/lib/python3.6/dist-packages/keras/backend/tensorflow_backend.py:216: The name tf.is_variable_initialized is deprecated. Please use tf.compat.v1.is_variable_initialized instead.\n",
            "\n",
            "WARNING:tensorflow:From /usr/local/lib/python3.6/dist-packages/keras/backend/tensorflow_backend.py:223: The name tf.variables_initializer is deprecated. Please use tf.compat.v1.variables_initializer instead.\n",
            "\n",
            "9106/9106 [==============================] - 1s 72us/step - loss: 2263.1018 - val_loss: 779.4412\n",
            "Epoch 2/50\n",
            "9106/9106 [==============================] - 0s 43us/step - loss: 225.9979 - val_loss: 137.7783\n",
            "Epoch 3/50\n",
            "9106/9106 [==============================] - 0s 42us/step - loss: 136.6673 - val_loss: 130.6098\n",
            "Epoch 4/50\n",
            "9106/9106 [==============================] - 0s 41us/step - loss: 129.6632 - val_loss: 123.7360\n",
            "Epoch 5/50\n",
            "9106/9106 [==============================] - 0s 41us/step - loss: 122.7959 - val_loss: 117.0939\n",
            "Epoch 6/50\n",
            "9106/9106 [==============================] - 0s 42us/step - loss: 116.5047 - val_loss: 111.1223\n",
            "Epoch 7/50\n",
            "9106/9106 [==============================] - 0s 41us/step - loss: 110.6554 - val_loss: 105.9485\n",
            "Epoch 8/50\n",
            "9106/9106 [==============================] - 0s 43us/step - loss: 105.7115 - val_loss: 101.3223\n",
            "Epoch 9/50\n",
            "9106/9106 [==============================] - 0s 44us/step - loss: 101.4574 - val_loss: 97.8815\n",
            "Epoch 10/50\n",
            "9106/9106 [==============================] - 0s 42us/step - loss: 98.0244 - val_loss: 94.3556\n",
            "Epoch 11/50\n",
            "9106/9106 [==============================] - 0s 41us/step - loss: 94.8537 - val_loss: 92.2176\n",
            "Epoch 12/50\n",
            "9106/9106 [==============================] - 0s 46us/step - loss: 92.3180 - val_loss: 89.5071\n",
            "Epoch 13/50\n",
            "9106/9106 [==============================] - 0s 42us/step - loss: 90.3211 - val_loss: 87.5427\n",
            "Epoch 14/50\n",
            "9106/9106 [==============================] - 0s 42us/step - loss: 88.4650 - val_loss: 86.2403\n",
            "Epoch 15/50\n",
            "9106/9106 [==============================] - 0s 40us/step - loss: 87.0066 - val_loss: 85.3867\n",
            "Epoch 16/50\n",
            "9106/9106 [==============================] - 0s 41us/step - loss: 85.8311 - val_loss: 83.7342\n",
            "Epoch 17/50\n",
            "9106/9106 [==============================] - 0s 44us/step - loss: 84.8739 - val_loss: 82.9163\n",
            "Epoch 18/50\n",
            "9106/9106 [==============================] - 0s 46us/step - loss: 83.9803 - val_loss: 83.0618\n",
            "Epoch 19/50\n",
            "9106/9106 [==============================] - 0s 42us/step - loss: 83.4340 - val_loss: 81.8171\n",
            "Epoch 20/50\n",
            "9106/9106 [==============================] - 0s 42us/step - loss: 82.8449 - val_loss: 81.3489\n",
            "Epoch 21/50\n",
            "9106/9106 [==============================] - 0s 44us/step - loss: 82.5627 - val_loss: 81.0963\n",
            "Epoch 22/50\n",
            "9106/9106 [==============================] - 0s 42us/step - loss: 82.1733 - val_loss: 81.2679\n",
            "Epoch 23/50\n",
            "9106/9106 [==============================] - 0s 45us/step - loss: 82.1473 - val_loss: 80.8706\n",
            "Epoch 24/50\n",
            "9106/9106 [==============================] - 0s 41us/step - loss: 81.8553 - val_loss: 80.7843\n",
            "Epoch 25/50\n",
            "9106/9106 [==============================] - 0s 42us/step - loss: 81.6945 - val_loss: 80.4584\n",
            "Epoch 26/50\n",
            "9106/9106 [==============================] - 0s 41us/step - loss: 81.6590 - val_loss: 81.0812\n",
            "Epoch 27/50\n",
            "9106/9106 [==============================] - 0s 42us/step - loss: 81.6815 - val_loss: 80.7901\n",
            "Epoch 28/50\n",
            "9106/9106 [==============================] - 0s 41us/step - loss: 81.4534 - val_loss: 81.1010\n",
            "Epoch 29/50\n",
            "9106/9106 [==============================] - 0s 41us/step - loss: 81.3144 - val_loss: 80.2450\n",
            "Epoch 30/50\n",
            "9106/9106 [==============================] - 0s 41us/step - loss: 81.1420 - val_loss: 80.1457\n",
            "Epoch 31/50\n",
            "9106/9106 [==============================] - 0s 41us/step - loss: 81.0151 - val_loss: 80.2390\n",
            "Epoch 32/50\n",
            "9106/9106 [==============================] - 0s 42us/step - loss: 80.7261 - val_loss: 80.1047\n",
            "Epoch 33/50\n",
            "9106/9106 [==============================] - 0s 45us/step - loss: 80.5821 - val_loss: 79.9954\n",
            "Epoch 34/50\n",
            "9106/9106 [==============================] - 0s 43us/step - loss: 80.4297 - val_loss: 79.8607\n",
            "Epoch 35/50\n",
            "9106/9106 [==============================] - 0s 41us/step - loss: 80.2230 - val_loss: 79.8990\n",
            "Epoch 36/50\n",
            "9106/9106 [==============================] - 0s 40us/step - loss: 79.9243 - val_loss: 79.7514\n",
            "Epoch 37/50\n",
            "9106/9106 [==============================] - 0s 41us/step - loss: 79.7668 - val_loss: 79.6593\n",
            "Epoch 38/50\n",
            "9106/9106 [==============================] - 0s 45us/step - loss: 79.5842 - val_loss: 79.7544\n",
            "Epoch 39/50\n",
            "9106/9106 [==============================] - 0s 43us/step - loss: 79.4279 - val_loss: 79.8046\n",
            "Epoch 40/50\n",
            "9106/9106 [==============================] - 0s 42us/step - loss: 79.3933 - val_loss: 79.5400\n",
            "Epoch 41/50\n",
            "9106/9106 [==============================] - 0s 41us/step - loss: 79.4163 - val_loss: 79.5352\n",
            "Epoch 42/50\n",
            "9106/9106 [==============================] - 0s 40us/step - loss: 79.0928 - val_loss: 79.5501\n",
            "Epoch 43/50\n",
            "9106/9106 [==============================] - 0s 43us/step - loss: 79.0375 - val_loss: 79.6436\n",
            "Epoch 44/50\n",
            "9106/9106 [==============================] - 0s 41us/step - loss: 78.9700 - val_loss: 79.3500\n",
            "Epoch 45/50\n",
            "9106/9106 [==============================] - 0s 41us/step - loss: 78.9214 - val_loss: 79.6489\n",
            "Epoch 46/50\n",
            "9106/9106 [==============================] - 0s 41us/step - loss: 78.7057 - val_loss: 79.6970\n",
            "Epoch 47/50\n",
            "9106/9106 [==============================] - 0s 40us/step - loss: 78.5421 - val_loss: 79.6061\n",
            "Epoch 48/50\n",
            "9106/9106 [==============================] - 0s 44us/step - loss: 78.5597 - val_loss: 79.3388\n",
            "Epoch 49/50\n",
            "9106/9106 [==============================] - 0s 43us/step - loss: 78.4730 - val_loss: 79.3884\n",
            "Epoch 50/50\n",
            "9106/9106 [==============================] - 0s 43us/step - loss: 78.3865 - val_loss: 79.6235\n"
          ],
          "name": "stdout"
        },
        {
          "output_type": "execute_result",
          "data": {
            "text/plain": [
              "79.62354618497632"
            ]
          },
          "metadata": {
            "tags": []
          },
          "execution_count": 27
        }
      ]
    },
    {
      "cell_type": "markdown",
      "metadata": {
        "id": "FxGwo2u3wGqN",
        "colab_type": "text"
      },
      "source": [
        "**Part - 2**"
      ]
    },
    {
      "cell_type": "code",
      "metadata": {
        "id": "7gyyX2LpYZm9",
        "colab_type": "code",
        "colab": {
          "base_uri": "https://localhost:8080/",
          "height": 204
        },
        "outputId": "43d5c834-4746-4bf7-969a-c11f53c2178b"
      },
      "source": [
        "#Loading Time-Series data of Diuresis rate\n",
        "xls = pd.ExcelFile('Train_dataset.xlsx')\n",
        "diu_df = pd.read_excel(xls, 'Diuresis_TS')\n",
        "diu_df.head()"
      ],
      "execution_count": 28,
      "outputs": [
        {
          "output_type": "execute_result",
          "data": {
            "text/html": [
              "<div>\n",
              "<style scoped>\n",
              "    .dataframe tbody tr th:only-of-type {\n",
              "        vertical-align: middle;\n",
              "    }\n",
              "\n",
              "    .dataframe tbody tr th {\n",
              "        vertical-align: top;\n",
              "    }\n",
              "\n",
              "    .dataframe thead th {\n",
              "        text-align: right;\n",
              "    }\n",
              "</style>\n",
              "<table border=\"1\" class=\"dataframe\">\n",
              "  <thead>\n",
              "    <tr style=\"text-align: right;\">\n",
              "      <th></th>\n",
              "      <th>people_ID</th>\n",
              "      <th>2020-03-20 00:00:00</th>\n",
              "      <th>2020-03-21 00:00:00</th>\n",
              "      <th>2020-03-22 00:00:00</th>\n",
              "      <th>2020-03-23 00:00:00</th>\n",
              "      <th>2020-03-24 00:00:00</th>\n",
              "      <th>2020-03-25 00:00:00</th>\n",
              "      <th>2020-03-26 00:00:00</th>\n",
              "    </tr>\n",
              "  </thead>\n",
              "  <tbody>\n",
              "    <tr>\n",
              "      <th>0</th>\n",
              "      <td>1</td>\n",
              "      <td>441</td>\n",
              "      <td>544.2</td>\n",
              "      <td>669.64</td>\n",
              "      <td>821.368</td>\n",
              "      <td>1002.2416</td>\n",
              "      <td>1215.68992</td>\n",
              "      <td>1472.627904</td>\n",
              "    </tr>\n",
              "    <tr>\n",
              "      <th>1</th>\n",
              "      <td>2</td>\n",
              "      <td>151</td>\n",
              "      <td>197.2</td>\n",
              "      <td>253.24</td>\n",
              "      <td>321.688</td>\n",
              "      <td>399.9256</td>\n",
              "      <td>492.91072</td>\n",
              "      <td>606.892864</td>\n",
              "    </tr>\n",
              "    <tr>\n",
              "      <th>2</th>\n",
              "      <td>3</td>\n",
              "      <td>416</td>\n",
              "      <td>515.2</td>\n",
              "      <td>632.44</td>\n",
              "      <td>776.728</td>\n",
              "      <td>947.7736</td>\n",
              "      <td>1150.32832</td>\n",
              "      <td>1395.793984</td>\n",
              "    </tr>\n",
              "    <tr>\n",
              "      <th>3</th>\n",
              "      <td>4</td>\n",
              "      <td>410</td>\n",
              "      <td>506.0</td>\n",
              "      <td>621.40</td>\n",
              "      <td>761.880</td>\n",
              "      <td>928.1560</td>\n",
              "      <td>1126.78720</td>\n",
              "      <td>1368.344640</td>\n",
              "    </tr>\n",
              "    <tr>\n",
              "      <th>4</th>\n",
              "      <td>5</td>\n",
              "      <td>390</td>\n",
              "      <td>483.0</td>\n",
              "      <td>595.00</td>\n",
              "      <td>730.200</td>\n",
              "      <td>892.8400</td>\n",
              "      <td>1084.40800</td>\n",
              "      <td>1315.889600</td>\n",
              "    </tr>\n",
              "  </tbody>\n",
              "</table>\n",
              "</div>"
            ],
            "text/plain": [
              "   people_ID  2020-03-20 00:00:00  ...  2020-03-25 00:00:00  2020-03-26 00:00:00\n",
              "0          1                  441  ...           1215.68992          1472.627904\n",
              "1          2                  151  ...            492.91072           606.892864\n",
              "2          3                  416  ...           1150.32832          1395.793984\n",
              "3          4                  410  ...           1126.78720          1368.344640\n",
              "4          5                  390  ...           1084.40800          1315.889600\n",
              "\n",
              "[5 rows x 8 columns]"
            ]
          },
          "metadata": {
            "tags": []
          },
          "execution_count": 28
        }
      ]
    },
    {
      "cell_type": "code",
      "metadata": {
        "id": "ybjrJN23G-I5",
        "colab_type": "code",
        "colab": {
          "base_uri": "https://localhost:8080/",
          "height": 170
        },
        "outputId": "a6733fd1-9af4-41ca-a14d-7f48b8dcb54a"
      },
      "source": [
        "#Checking for NaN values\n",
        "diu_df.count()"
      ],
      "execution_count": 29,
      "outputs": [
        {
          "output_type": "execute_result",
          "data": {
            "text/plain": [
              "people_ID              10714\n",
              "2020-03-20 00:00:00    10714\n",
              "2020-03-21 00:00:00    10714\n",
              "2020-03-22 00:00:00    10714\n",
              "2020-03-23 00:00:00    10714\n",
              "2020-03-24 00:00:00    10714\n",
              "2020-03-25 00:00:00    10714\n",
              "2020-03-26 00:00:00    10714\n",
              "dtype: int64"
            ]
          },
          "metadata": {
            "tags": []
          },
          "execution_count": 29
        }
      ]
    },
    {
      "cell_type": "code",
      "metadata": {
        "id": "LIVrrG8qsxAC",
        "colab_type": "code",
        "colab": {
          "base_uri": "https://localhost:8080/",
          "height": 513
        },
        "outputId": "155a9850-9c3c-4590-c0a6-ddae2f447701"
      },
      "source": [
        "#Plotting Diuresis rate Vs Time(in Days)\n",
        "for i in range(2):\n",
        "  tmp = diu_df.iloc[i]\n",
        "  tmp = tmp.to_numpy()\n",
        "  tmp = np.delete(tmp,0,axis=0)\n",
        "  plt.plot([0,1,2,3,4,5,6],tmp)\n",
        "  plt.show()"
      ],
      "execution_count": 30,
      "outputs": [
        {
          "output_type": "display_data",
          "data": {
            "image/png": "[encoded data removed]",
            "text/plain": [
              "<Figure size 432x288 with 1 Axes>"
            ]
          },
          "metadata": {
            "tags": []
          }
        },
        {
          "output_type": "display_data",
          "data": {
            "image/png": "[encoded data removed]",
            "text/plain": [
              "<Figure size 432x288 with 1 Axes>"
            ]
          },
          "metadata": {
            "tags": []
          }
        }
      ]
    },
    {
      "cell_type": "code",
      "metadata": {
        "id": "UAWbl6l0wO1e",
        "colab_type": "code",
        "colab": {
          "base_uri": "https://localhost:8080/",
          "height": 285
        },
        "outputId": "635a9833-1518-409e-affd-8332bbb69755"
      },
      "source": [
        "#Using Polynomial Regression to find the Diuresis rate on 27th March\n",
        "tmp = diu_df.iloc[0]\n",
        "tmp = tmp.to_numpy()\n",
        "tmp = np.delete(tmp,0,axis=0)\n",
        "tmp2 = np.asarray([0,1,2,3,4,5,6])\n",
        "tmp = tmp.reshape(-1,1)\n",
        "tmp2 = tmp2.reshape(-1,1)\n",
        "\n",
        "poly = PolynomialFeatures(2)\n",
        "tmp2 = poly.fit_transform(tmp2)\n",
        "\n",
        "model_poly = LinearRegression()\n",
        "model_poly.fit(tmp2,tmp)\n",
        "\n",
        "y = []\n",
        "for i in range(8):\n",
        "  t = np.asarray( [1,i,i**2] )\n",
        "  t = t.reshape(1,3)\n",
        "  y_p = model_poly.predict(t)\n",
        "  y.append(y_p[0][0])\n",
        "print(y)\n",
        "plt.plot(range(8),y,'o-b')\n",
        "\n",
        "tmp = diu_df.iloc[0]\n",
        "tmp = tmp.to_numpy()\n",
        "tmp = np.delete(tmp,0,axis=0)\n",
        "plt.plot([0,1,2,3,4,5,6],tmp,'o-r')\n",
        "plt.show()"
      ],
      "execution_count": 31,
      "outputs": [
        {
          "output_type": "stream",
          "text": [
            "[445.2635276190479, 540.2192640000001, 665.3422079999998, 820.6323596190473, 1006.0897188571423, 1221.714285714285, 1467.5060601904754, 1743.4650422857133]\n"
          ],
          "name": "stdout"
        },
        {
          "output_type": "display_data",
          "data": {
            "image/png": "[encoded data removed]",
            "text/plain": [
              "<Figure size 432x288 with 1 Axes>"
            ]
          },
          "metadata": {
            "tags": []
          }
        }
      ]
    },
    {
      "cell_type": "code",
      "metadata": {
        "id": "iTUWMHxhtBt3",
        "colab_type": "code",
        "colab": {}
      },
      "source": [
        "#Predicting the value of Diuresis rate on 27th for each person on train dataset\n",
        "y_diu = []\n",
        "for i in range(diu_df.shape[0]):\n",
        "  tmp = diu_df.iloc[i]\n",
        "  tmp = tmp.to_numpy()\n",
        "  tmp = np.delete(tmp,0,axis=0)\n",
        "  tmp2 = np.asarray([0,1,2,3,4,5,6])\n",
        "  tmp = tmp.reshape(-1,1)\n",
        "\n",
        "  poly = PolynomialFeatures(2)\n",
        "  tmp2 = tmp2.reshape(-1,1)\n",
        "  tmp2 = poly.fit_transform(tmp2)\n",
        "\n",
        "  model_poly = LinearRegression()\n",
        "  model_poly.fit(tmp2,tmp)\n",
        "  t = np.asarray( [1,7,49] )\n",
        "  t = t.reshape(1,3)\n",
        "  y_p = model_poly.predict(t)\n",
        "  y_diu.append(y_p[0][0])\n",
        "y_df = pd.DataFrame()\n",
        "y_df['diu'] = y_diu"
      ],
      "execution_count": 0,
      "outputs": []
    },
    {
      "cell_type": "code",
      "metadata": {
        "id": "31G5PkecdrNC",
        "colab_type": "code",
        "colab": {
          "base_uri": "https://localhost:8080/",
          "height": 700
        },
        "outputId": "53ad1049-3837-4dd1-926f-13c9bb63bc6b"
      },
      "source": [
        "#Plotting Diuresis rate on March 20 Vs Diuresis rate on March 27\n",
        "f = figure(figsize=(15,12))\n",
        "plt.plot(diu_df[diu_df.columns[1]][::150],y_df[::150],'ob')\n",
        "plt.show()"
      ],
      "execution_count": 33,
      "outputs": [
        {
          "output_type": "display_data",
          "data": {
            "image/png": "[encoded data removed]",
            "text/plain": [
              "<Figure size 1080x864 with 1 Axes>"
            ]
          },
          "metadata": {
            "tags": []
          }
        }
      ]
    },
    {
      "cell_type": "code",
      "metadata": {
        "id": "SlEJ7xYPa3U9",
        "colab_type": "code",
        "colab": {}
      },
      "source": [
        "tr_diu = pd.DataFrame(scaler.fit_transform(diu_df[diu_df.columns[1]].values.reshape(-1,1)))"
      ],
      "execution_count": 0,
      "outputs": []
    },
    {
      "cell_type": "code",
      "metadata": {
        "id": "0kDGcJl0bGdN",
        "colab_type": "code",
        "colab": {}
      },
      "source": [
        "#Using Linear Regression to find the Diuresis rate on March 27th for the people in test dataset\n",
        "mod = LinearRegression()\n",
        "mod.fit(tr_diu,y_df)\n",
        "diu_pred = mod.predict(test_df['Diuresis'].values.reshape(-1,1))\n",
        "\n",
        "test_df_2 = test_df.copy()\n",
        "scaler.fit(diu_df[diu_df.columns[1]].values.reshape(-1,1))\n",
        "test_df_2['Diuresis'] = pd.DataFrame(scaler.transform(diu_pred))"
      ],
      "execution_count": 0,
      "outputs": []
    },
    {
      "cell_type": "code",
      "metadata": {
        "id": "Er580cFCaCVY",
        "colab_type": "code",
        "colab": {}
      },
      "source": [
        "#Predicting the probility of infection using Random Forest Regression on 20th March\n",
        "y_pred = model_rf.predict(test_df)\n",
        "output_1 = pd.DataFrame({'people_ID':test_id,'Infect_Prob':y_pred})\n",
        "output_1.to_csv('Prob_20_03.csv',index=False)"
      ],
      "execution_count": 0,
      "outputs": []
    },
    {
      "cell_type": "code",
      "metadata": {
        "id": "om30owMFaK01",
        "colab_type": "code",
        "colab": {}
      },
      "source": [
        "#Predicting the probility of infection using Random Forest Regression on 27th March\n",
        "y_pred_2 = model_rf.predict(test_df_2)\n",
        "output_2 = pd.DataFrame({'people_ID':test_id,'Infect_Prob':y_pred_2})\n",
        "output_2.to_csv('Prob_27_03.csv',index=False)"
      ],
      "execution_count": 0,
      "outputs": []
    }
  ]
}