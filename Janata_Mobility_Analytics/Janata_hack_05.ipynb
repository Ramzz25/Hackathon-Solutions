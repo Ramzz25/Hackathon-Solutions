{
  "nbformat": 4,
  "nbformat_minor": 0,
  "metadata": {
    "colab": {
      "name": "Janata_hack_05.ipynb",
      "provenance": []
    },
    "kernelspec": {
      "name": "python3",
      "display_name": "Python 3"
    }
  },
  "cells": [
    {
      "cell_type": "code",
      "metadata": {
        "id": "MECQHP5laExC",
        "colab_type": "code",
        "colab": {}
      },
      "source": [
        "!pip install category_encoders\n",
        "!pip install catboost"
      ],
      "execution_count": 0,
      "outputs": []
    },
    {
      "cell_type": "code",
      "metadata": {
        "id": "AvZDWH66YtAE",
        "colab_type": "code",
        "colab": {}
      },
      "source": [
        "from google.colab import drive\n",
        "drive.mount('/content/drive')\n",
        "\n",
        "%cd drive/My\\ Drive/Datasets/Janata_hackathon_05"
      ],
      "execution_count": 0,
      "outputs": []
    },
    {
      "cell_type": "code",
      "metadata": {
        "id": "Xl9DrE3lY12e",
        "colab_type": "code",
        "colab": {}
      },
      "source": [
        "import pandas as pd\n",
        "import numpy as np\n",
        "import matplotlib.pyplot as plt\n",
        "import seaborn as sns\n",
        "import category_encoders as ce\n",
        "from sklearn.experimental import enable_iterative_imputer\n",
        "from sklearn.impute import IterativeImputer\n",
        "from statistics import mode\n",
        "import warnings\n",
        "warnings.filterwarnings('ignore')\n",
        "np.random.seed(0)"
      ],
      "execution_count": 0,
      "outputs": []
    },
    {
      "cell_type": "code",
      "metadata": {
        "id": "kF31tUHzZBLM",
        "colab_type": "code",
        "colab": {}
      },
      "source": [
        "train_df = pd.read_csv('train.csv')\n",
        "test_df = pd.read_csv('test.csv')\n",
        "len(train_df), len(test_df)"
      ],
      "execution_count": 0,
      "outputs": []
    },
    {
      "cell_type": "code",
      "metadata": {
        "id": "a_aJYEUM4NGl",
        "colab_type": "code",
        "colab": {}
      },
      "source": [
        "%cd ..\n",
        "%cd ..\n",
        "%cd ..\n",
        "%cd .."
      ],
      "execution_count": 0,
      "outputs": []
    },
    {
      "cell_type": "code",
      "metadata": {
        "id": "6nKYJcqXZKHK",
        "colab_type": "code",
        "colab": {}
      },
      "source": [
        "train_df.head()"
      ],
      "execution_count": 0,
      "outputs": []
    },
    {
      "cell_type": "code",
      "metadata": {
        "id": "wHHNhCXCZWca",
        "colab_type": "code",
        "colab": {}
      },
      "source": [
        "train_df.isna().sum()"
      ],
      "execution_count": 0,
      "outputs": []
    },
    {
      "cell_type": "code",
      "metadata": {
        "id": "9wTNOA_xaN5D",
        "colab_type": "code",
        "colab": {}
      },
      "source": [
        "test_df.isna().sum()"
      ],
      "execution_count": 0,
      "outputs": []
    },
    {
      "cell_type": "code",
      "metadata": {
        "id": "TD7GY4XIZ00W",
        "colab_type": "code",
        "colab": {}
      },
      "source": [
        "train_df['Surge_Pricing_Type'].value_counts()"
      ],
      "execution_count": 0,
      "outputs": []
    },
    {
      "cell_type": "code",
      "metadata": {
        "id": "KuhjlwWUcv0D",
        "colab_type": "code",
        "colab": {}
      },
      "source": [
        "cat_cols = ['Type_of_Cab', 'Confidence_Life_Style_Index', 'Destination_Type', 'Gender']\n",
        "con_cols = ['Life_Style_Index', 'Var1', 'Customer_Since_Months']"
      ],
      "execution_count": 0,
      "outputs": []
    },
    {
      "cell_type": "code",
      "metadata": {
        "id": "0m8v7801mtpn",
        "colab_type": "code",
        "colab": {}
      },
      "source": [
        "Y = train_df['Surge_Pricing_Type'].values\n",
        "ids = test_df['Trip_ID']\n",
        "train_df = train_df.drop(['Surge_Pricing_Type'], axis=1)"
      ],
      "execution_count": 0,
      "outputs": []
    },
    {
      "cell_type": "code",
      "metadata": {
        "id": "cBWfe54Vm8Se",
        "colab_type": "code",
        "colab": {}
      },
      "source": [
        "train_size = len(train_df)\n",
        "df = pd.concat([train_df, test_df],axis=0)\n",
        "df = df.drop(['Trip_ID'], axis=1)\n",
        "cols = list(df.columns.values)\n",
        "df.head(3)"
      ],
      "execution_count": 0,
      "outputs": []
    },
    {
      "cell_type": "code",
      "metadata": {
        "id": "b9eLYepZrRVF",
        "colab_type": "code",
        "colab": {}
      },
      "source": [
        "df['Customer_Since_Months'].hist(bins=10)"
      ],
      "execution_count": 0,
      "outputs": []
    },
    {
      "cell_type": "code",
      "metadata": {
        "id": "GHu2kKwprgW3",
        "colab_type": "code",
        "colab": {}
      },
      "source": [
        "df['Customer_Rating'].hist(bins=15)"
      ],
      "execution_count": 0,
      "outputs": []
    },
    {
      "cell_type": "code",
      "metadata": {
        "id": "ZxkqgSiOr_AK",
        "colab_type": "code",
        "colab": {}
      },
      "source": [
        "df['Type_of_Cab'].value_counts().plot(kind='bar')"
      ],
      "execution_count": 0,
      "outputs": []
    },
    {
      "cell_type": "code",
      "metadata": {
        "id": "jYtfrJtLsX1s",
        "colab_type": "code",
        "colab": {}
      },
      "source": [
        "df['Gender'].value_counts().plot(kind='bar')"
      ],
      "execution_count": 0,
      "outputs": []
    },
    {
      "cell_type": "code",
      "metadata": {
        "id": "OyzI9k1ZzfZ3",
        "colab_type": "code",
        "colab": {}
      },
      "source": [
        "ce_bin = ce.OrdinalEncoder(cols=cat_cols)\n",
        "df = ce_bin.fit_transform(df)"
      ],
      "execution_count": 0,
      "outputs": []
    },
    {
      "cell_type": "code",
      "metadata": {
        "id": "54C4nG4vnNKH",
        "colab_type": "code",
        "colab": {}
      },
      "source": [
        "imputer = IterativeImputer(max_iter=100, initial_strategy='most_frequent', random_state=0)\n",
        "new_df = imputer.fit_transform(df)\n",
        "j = 0 \n",
        "for i in list(df.columns.values):\n",
        "  df[i] = new_df[:,j]\n",
        "  j += 1\n",
        "\n",
        "df.head()"
      ],
      "execution_count": 0,
      "outputs": []
    },
    {
      "cell_type": "code",
      "metadata": {
        "id": "IOx1hUWHnbDx",
        "colab_type": "code",
        "colab": {}
      },
      "source": [
        "ce_bin = ce.OneHotEncoder(cols=cat_cols)\n",
        "df = ce_bin.fit_transform(df)\n",
        "df.head()"
      ],
      "execution_count": 0,
      "outputs": []
    },
    {
      "cell_type": "code",
      "metadata": {
        "id": "Dh_kSGa7rLnI",
        "colab_type": "code",
        "colab": {}
      },
      "source": [
        "df=((df-df.min())/(df.std()))\n",
        "df.head(3)"
      ],
      "execution_count": 0,
      "outputs": []
    },
    {
      "cell_type": "code",
      "metadata": {
        "id": "FPD4HnfztKqI",
        "colab_type": "code",
        "colab": {}
      },
      "source": [
        "train_df = df[:train_size].copy()\n",
        "test_df = df[train_size:].copy()"
      ],
      "execution_count": 0,
      "outputs": []
    },
    {
      "cell_type": "code",
      "metadata": {
        "id": "gfORaKir14uD",
        "colab_type": "code",
        "colab": {}
      },
      "source": [
        ""
      ],
      "execution_count": 0,
      "outputs": []
    },
    {
      "cell_type": "code",
      "metadata": {
        "id": "C7Siq0ZN10Hh",
        "colab_type": "code",
        "colab": {}
      },
      "source": [
        "from sklearn.model_selection import train_test_split\n",
        "from sklearn.metrics import accuracy_score as acc\n",
        "X_train, X_test, y_train, y_test = train_test_split(train_df, Y,test_size=0.2, random_state=0, stratify=Y)\n",
        "X_train.shape, X_test.shape"
      ],
      "execution_count": 0,
      "outputs": []
    },
    {
      "cell_type": "code",
      "metadata": {
        "id": "1Yrbrw7118To",
        "colab_type": "code",
        "colab": {}
      },
      "source": [
        "from sklearn.linear_model import LogisticRegression as LR\n",
        "lr = LR(max_iter=500, class_weight={1:1,2:1,3:1})\n",
        "lr.fit(X_train, y_train)\n",
        "print(acc(y_test,lr.predict(X_test)))"
      ],
      "execution_count": 0,
      "outputs": []
    },
    {
      "cell_type": "code",
      "metadata": {
        "id": "lIPwhRbj9in_",
        "colab_type": "code",
        "colab": {}
      },
      "source": [
        "from catboost import CatBoostClassifier\n",
        "cat = CatBoostClassifier(iterations=800, custom_metric=['Accuracy'])\n",
        "cat.fit(X_train, y_train, eval_set=(X_test,y_test), use_best_model=True)\n",
        "print(acc(y_test,cat.predict(X_test)))"
      ],
      "execution_count": 0,
      "outputs": []
    },
    {
      "cell_type": "code",
      "metadata": {
        "id": "4wVZF5eBalI0",
        "colab_type": "code",
        "colab": {}
      },
      "source": [
        "from xgboost import XGBClassifier\n",
        "xgb = XGBClassifier(n_estimators=750, max_depth=4, seed=0, verbose=100)\n",
        "xgb.fit(X_train,y_train, early_stopping_rounds=50, eval_metric=\"mlogloss\",eval_set=[(X_train, y_train), (X_test, y_test)])\n",
        "print(acc(y_test,xgb.predict(X_test)))"
      ],
      "execution_count": 0,
      "outputs": []
    },
    {
      "cell_type": "code",
      "metadata": {
        "id": "WqCcmyTZak0y",
        "colab_type": "code",
        "colab": {}
      },
      "source": [
        "from lightgbm import LGBMClassifier\n",
        "lgb = LGBMClassifier(n_estimators=750, max_depth=4, random_state=0, verbose=50)\n",
        "lgb.fit(X_train,y_train, early_stopping_rounds=50, eval_metric=\"multi_logloss\",eval_set=[(X_train, y_train), (X_test, y_test)])\n",
        "print(acc(y_test,lgb.predict(X_test)))"
      ],
      "execution_count": 0,
      "outputs": []
    },
    {
      "cell_type": "code",
      "metadata": {
        "id": "7t9LzNn_A1s6",
        "colab_type": "code",
        "colab": {}
      },
      "source": [
        "from sklearn.model_selection import StratifiedKFold\n",
        "from sklearn.metrics import accuracy_score as acc\n",
        "from lightgbm import LGBMClassifier\n",
        "from xgboost import XGBClassifier\n",
        "from sklearn.ensemble import RandomForestClassifier\n",
        "kfold = StratifiedKFold(n_splits=5, shuffle=True, random_state=0)\n",
        "cnt = 0\n",
        "for train_index, test_index in kfold.split(train_df, Y):\n",
        "  X_train, X_test = train_df.loc[train_index], train_df.loc[test_index]\n",
        "  y_train, y_test = Y[train_index], Y[test_index] ;cnt+=1\n",
        "\n",
        "  print('Fold '+str(cnt)+' : ')\n",
        "\n",
        "  lr = LR(max_iter=500)\n",
        "  lr.fit(X_train, y_train)\n",
        "  print(' LR : ',end='')\n",
        "  print(acc(y_test,lr.predict(X_test)))\n",
        "\n",
        "  lgb = LGBMClassifier(n_estimators=507, max_depth=4, random_state=0)\n",
        "  lgb.fit(X_train, y_train)\n",
        "  print('LGM : ',end='')\n",
        "  print(acc(y_test,lgb.predict(X_test)))\n",
        "\n",
        "  cat = CatBoostClassifier(iterations=530, logging_level='Silent')\n",
        "  cat.fit(X_train, y_train, eval_set=(X_test,y_test), use_best_model=True)\n",
        "  print('Cat : ',end='')\n",
        "  print(acc(y_test,cat.predict(X_test)))\n",
        "\n",
        "  xgb = XGBClassifier(n_estimators=482, max_depth=4, seed=0)\n",
        "  xgb.fit(X_train, y_train)\n",
        "  print('XGB : ',end='')\n",
        "  print(acc(y_test,xgb.predict(X_test)))"
      ],
      "execution_count": 0,
      "outputs": []
    },
    {
      "cell_type": "code",
      "metadata": {
        "id": "ITjZ8njtJRM1",
        "colab_type": "code",
        "colab": {}
      },
      "source": [
        "from sklearn.model_selection import train_test_split\n",
        "from sklearn.metrics import accuracy_score as acc\n",
        "X_train, X_test, y_train, y_test = train_test_split(train_df, Y,test_size=0.2, random_state=0, stratify=Y)\n",
        "X_train.shape, X_test.shape"
      ],
      "execution_count": 0,
      "outputs": []
    },
    {
      "cell_type": "code",
      "metadata": {
        "id": "PJ4VxA6QQ8wA",
        "colab_type": "code",
        "colab": {}
      },
      "source": [
        "from sklearn.ensemble import VotingClassifier as VC\n",
        "\n",
        "clf = VC(estimators=[('cat',cat), ('lgb',lgb), ('xgb',xgb)], voting='soft')\n",
        "clf.fit(X_train,y_train)\n",
        "print(acc(y_test,clf.predict(X_test)))"
      ],
      "execution_count": 0,
      "outputs": []
    },
    {
      "cell_type": "code",
      "metadata": {
        "id": "ncKXP05qUyhu",
        "colab_type": "code",
        "colab": {}
      },
      "source": [
        "xgb.fit(train_df,Y)\n",
        "lgb.fit(train_df,Y)\n",
        "cat.fit(train_df,Y)\n",
        "clf.fit(train_df,Y)"
      ],
      "execution_count": 0,
      "outputs": []
    },
    {
      "cell_type": "code",
      "metadata": {
        "id": "QTne3705_EXF",
        "colab_type": "code",
        "colab": {}
      },
      "source": [
        "predx = xgb.predict(test_df)\n",
        "predl = lgb.predict(test_df)\n",
        "predc = cat.predict(test_df)[:,0]\n",
        "\n",
        "predx.shape, predl.shape, predc.shape\n",
        "from collections import Counter\n",
        "\n",
        "p=1;q=1;r=1;\n",
        "y_pred = [ Counter( [i]*p + [j]*q + [k]*r ).most_common(1)[0][0] for i,j,k in zip(predx,predl,predc)]\n",
        "\n",
        "y_pred = clf.predict(test_df)\n",
        "y_pred.shape"
      ],
      "execution_count": 0,
      "outputs": []
    },
    {
      "cell_type": "code",
      "metadata": {
        "id": "VFd8N9w63M89",
        "colab_type": "code",
        "colab": {}
      },
      "source": [
        "sub = pd.DataFrame({'Trip_ID':ids,'Surge_Pricing_Type':y_pred})\n",
        "sub.to_csv('subs.csv', index=False)\n",
        "sub.head()"
      ],
      "execution_count": 0,
      "outputs": []
    },
    {
      "cell_type": "code",
      "metadata": {
        "id": "zHe_Iaeb4A3m",
        "colab_type": "code",
        "colab": {}
      },
      "source": [
        ""
      ],
      "execution_count": 0,
      "outputs": []
    }
  ]
}