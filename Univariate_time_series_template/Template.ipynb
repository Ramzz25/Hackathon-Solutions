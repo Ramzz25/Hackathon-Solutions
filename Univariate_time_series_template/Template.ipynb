{
  "nbformat": 4,
  "nbformat_minor": 0,
  "metadata": {
    "colab": {
      "name": "Untitled0.ipynb",
      "provenance": []
    },
    "kernelspec": {
      "name": "python3",
      "display_name": "Python 3"
    }
  },
  "cells": [
    {
      "cell_type": "code",
      "metadata": {
        "id": "L3-lhi_NNz6k",
        "colab_type": "code",
        "colab": {}
      },
      "source": [
        "from google.colab import drive\n",
        "drive.mount('/content/drive')\n",
        "\n",
        "%cd drive/My\\ Drive/Datasets/"
      ],
      "execution_count": 0,
      "outputs": []
    },
    {
      "cell_type": "code",
      "metadata": {
        "id": "lZrIcdovN3rL",
        "colab_type": "code",
        "colab": {}
      },
      "source": [
        "import numpy as np\n",
        "import pandas as pd\n",
        "from sklearn.metrics import mean_squared_error as mse\n",
        "import matplotlib.pyplot as plt\n",
        "plt.rcParams['figure.figsize'] = 12,8"
      ],
      "execution_count": 0,
      "outputs": []
    },
    {
      "cell_type": "code",
      "metadata": {
        "id": "pCNJIgEzOUOP",
        "colab_type": "code",
        "colab": {}
      },
      "source": [
        "df = pd.read_csv('.csv')"
      ],
      "execution_count": 0,
      "outputs": []
    },
    {
      "cell_type": "code",
      "metadata": {
        "id": "8yk-2XgOOY38",
        "colab_type": "code",
        "colab": {}
      },
      "source": [
        "df.head()"
      ],
      "execution_count": 0,
      "outputs": []
    },
    {
      "cell_type": "code",
      "metadata": {
        "id": "2D6j8i6cwDhV",
        "colab_type": "code",
        "colab": {}
      },
      "source": [
        "col = ''"
      ],
      "execution_count": 0,
      "outputs": []
    },
    {
      "cell_type": "code",
      "metadata": {
        "id": "G0DuCh2lOee0",
        "colab_type": "code",
        "colab": {}
      },
      "source": [
        "plt.plot(df[col])"
      ],
      "execution_count": 0,
      "outputs": []
    },
    {
      "cell_type": "code",
      "metadata": {
        "id": "V2xJeb9VTla5",
        "colab_type": "code",
        "colab": {}
      },
      "source": [
        "from statsmodels.tsa.seasonal import seasonal_decompose\n",
        "\n",
        "result = seasonal_decompose(df[col], model='additive', freq=120)\n",
        "result.plot()\n",
        "plt.show()"
      ],
      "execution_count": 0,
      "outputs": []
    },
    {
      "cell_type": "code",
      "metadata": {
        "id": "haGXcJlVTrjm",
        "colab_type": "code",
        "colab": {}
      },
      "source": [
        "import statsmodels.api as sm\n",
        "\n",
        "fig, ax = plt.subplots(1,2,figsize=(22,8))\n",
        "sm.graphics.tsa.plot_acf(df[col], lags=35, ax=ax[0])\n",
        "sm.graphics.tsa.plot_pacf(df[col], lags=35, ax=ax[1])\n",
        "plt.show()"
      ],
      "execution_count": 0,
      "outputs": []
    },
    {
      "cell_type": "code",
      "metadata": {
        "id": "1SMPehvZgHmm",
        "colab_type": "code",
        "colab": {}
      },
      "source": [
        "def prep_data(y, n_lag=1):\n",
        "  y = list(y.values);n=len(y)\n",
        "  X = pd.DataFrame()\n",
        "  for i in range(n_lag):\n",
        "    X['lag_'+str(i+1)] = y[i:n-n_lag+i]\n",
        "\n",
        "  X['target'] = y[n_lag:]\n",
        "\n",
        "  return X"
      ],
      "execution_count": 0,
      "outputs": []
    },
    {
      "cell_type": "code",
      "metadata": {
        "id": "ofPlzdJRzRx7",
        "colab_type": "code",
        "colab": {}
      },
      "source": [
        "def train_test_split(df, ratio=0.1):\n",
        "  r = int((1-ratio)*df.shape[0])\n",
        "  train = df[:r].copy()\n",
        "  test = df[r:].copy()\n",
        "\n",
        "  return train, test"
      ],
      "execution_count": 0,
      "outputs": []
    },
    {
      "cell_type": "code",
      "metadata": {
        "id": "bQbkatmX0MZw",
        "colab_type": "code",
        "colab": {}
      },
      "source": [
        "def validate_model(df, model, ratio=0.1):\n",
        "\n",
        "  train, test = train_test_split(df, ratio=ratio)\n",
        "  y_train = train['target']; n=train.shape[0]; n_lag=train.shape[1]-1\n",
        "  x_train = train.drop(['target'], axis=1).values\n",
        "  model.fit(x_train, y_train)\n",
        "\n",
        "  y_test = list(test['target'].values)\n",
        "  l = list(y_train[n-n_lag:])\n",
        "  preds = [model.predict(np.asarray(l).reshape(1,-1))[0]]\n",
        "  for i in range(len(y_test)-1):\n",
        "    del l[0]\n",
        "    l.append(preds[-1])\n",
        "    preds.append(model.predict(np.asarray(l).reshape(1,-1))[0])\n",
        "  print('MSE of the given model : '+str(mse(preds,y_test)))\n",
        "  plt.plot(range(len(y_test)), y_test, label='original')\n",
        "  plt.plot(range(len(y_test)), preds, label='predicted')\n",
        "  plt.xlabel('time')\n",
        "  plt.ylabel('target_variable')\n",
        "  plt.legend()\n",
        "  plt.show()\n",
        "\n",
        "  return"
      ],
      "execution_count": 0,
      "outputs": []
    },
    {
      "cell_type": "code",
      "metadata": {
        "id": "wN28HdjO62zR",
        "colab_type": "code",
        "colab": {}
      },
      "source": [
        "def make_forecast(df, model, no_of_steps=1):\n",
        "  y_train = df['target']; n=df.shape[0]; n_lag=df.shape[1]-1\n",
        "  x_train = df.drop(['target'], axis=1).values\n",
        "  model.fit(x_train, y_train)\n",
        "\n",
        "  l = list(y_train[n-n_lag:])\n",
        "  preds = [model.predict(np.asarray(l).reshape(1,-1))[0]]\n",
        "  for i in range(no_of_steps-1):\n",
        "    del l[0]\n",
        "    l.append(preds[-1])\n",
        "    preds.append(model.predict(np.asarray(l).reshape(1,-1))[0])\n",
        "\n",
        "  return preds"
      ],
      "execution_count": 0,
      "outputs": []
    },
    {
      "cell_type": "code",
      "metadata": {
        "id": "CJcaV0Keyr8N",
        "colab_type": "code",
        "colab": {}
      },
      "source": [
        "X = prep_data(df[col], n_lag=)"
      ],
      "execution_count": 0,
      "outputs": []
    },
    {
      "cell_type": "code",
      "metadata": {
        "id": "0ZZRSloO6yB3",
        "colab_type": "code",
        "colab": {}
      },
      "source": [
        "validate_model(X, model=)"
      ],
      "execution_count": 0,
      "outputs": []
    },
    {
      "cell_type": "code",
      "metadata": {
        "id": "Ls8GK0gh8icn",
        "colab_type": "code",
        "colab": {}
      },
      "source": [
        "output = make_forecast(X, model=lr ,no_of_steps=)\n",
        "\n",
        "sub = pd.DataFrame({'target_variable':output})\n",
        "sub.to_csv('output.csv', index=True)"
      ],
      "execution_count": 0,
      "outputs": []
    }
  ]
}